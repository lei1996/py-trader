{
 "cells": [
  {
   "cell_type": "code",
   "execution_count": 25,
   "metadata": {},
   "outputs": [
    {
     "name": "stdout",
     "output_type": "stream",
     "text": [
      "[2000.  1980.  1960.2]\n"
     ]
    }
   ],
   "source": [
    "import numpy as np\n",
    "\n",
    "\n",
    "class Martingale:\n",
    "    def __init__(self, open_price, max_cnt, direction, bs, margin_call, close_call):\n",
    "        self.max_cnt = max_cnt  # 最大补仓次数\n",
    "        self.direction = direction  # 方向 buy 多 sell 空\n",
    "        self.bs = bs  # 补仓数量 like: [1, 2, 4, 8]...\n",
    "        self.margin_call = margin_call  # 跌 | 涨 1% 补仓\n",
    "        self.close_call = close_call  # 获利多少平仓\n",
    "        self.curr = 0  # 当前开仓次数\n",
    "\n",
    "        self.price_lists = np.array([open_price])\n",
    "\n",
    "        for i in range(1, max_cnt):\n",
    "            if self.direction == 'buy':\n",
    "                self.price_lists = np.append(\n",
    "                    self.price_lists, self.price_lists[-1] - (self.price_lists[-1] * margin_call[i]))\n",
    "            else:\n",
    "                self.price_lists = np.append(\n",
    "                    self.price_lists, self.price_lists[-1] + (self.price_lists[-1] * margin_call[i]))\n",
    "\n",
    "    def is_add_open(self, price):  # 是否加仓\n",
    "        if self.curr >= self.max_cnt:\n",
    "            return []\n",
    "        if self.direction == 'buy':\n",
    "            return self.price_lists[self.price_lists >= price]\n",
    "        else:\n",
    "            return self.price_lists[self.price_lists <= price]\n",
    "\n",
    "    def is_close_all(self, price):  # 是否平仓\n",
    "        if self.curr == 0:\n",
    "            return False\n",
    "\n",
    "        result = 0\n",
    "        for i in range(0, self.curr):\n",
    "            result += self.price_lists[i] * self.bs[i]\n",
    "\n",
    "        avg_price = result / sum(self.bs[:self.curr])\n",
    "\n",
    "        if self.direction == 'buy':\n",
    "            return price > (avg_price + (avg_price * self.close_call[self.curr - 1]))\n",
    "        else:\n",
    "            return price < (avg_price - (avg_price * self.close_call[self.curr - 1]))\n",
    "\n",
    "    def curr_open(self):  # 当前开仓\n",
    "        if self.curr == 0:\n",
    "            return 0\n",
    "        return sum(self.bs[:self.curr])\n",
    "\n",
    "\n",
    "mas = Martingale(open_price=2000, max_cnt=5, direction='buy',\n",
    "                 margin_call=0.01, close_call=0.005)\n",
    "\n",
    "print(mas.is_add_open(1960))\n"
   ]
  },
  {
   "cell_type": "code",
   "execution_count": 31,
   "metadata": {},
   "outputs": [
    {
     "name": "stdout",
     "output_type": "stream",
     "text": [
      "[2000.         1995.         1985.025      1970.1373125  1950.43593938]\n",
      "[2040.0, 2031.6083333333333, 2019.8645, 2004.1558987499998, 1984.1017827516127]\n",
      "2000.0\n",
      "1995.0\n",
      "1985.02\n",
      "1970.14\n",
      "1950.44\n"
     ]
    }
   ],
   "source": [
    "import numpy as np\n",
    "\n",
    "\n",
    "max_cnt = 5\n",
    "direction = 'buy'\n",
    "margin_call = np.linspace(0, 0.01, num=5).tolist()\n",
    "close_call = np.linspace(0.02, 0.01, num=5).tolist()\n",
    "bs = [1, 2, 4, 8, 16, 32, 64, 128, 256, 512, 1024, 2048, 4096, 8192]\n",
    "price_lists = np.array([2000])\n",
    "close_lists = []\n",
    "order_lists = []\n",
    "\n",
    "for i in range(1, max_cnt):\n",
    "    if direction == 'buy':\n",
    "        price_lists = np.append(\n",
    "            price_lists, price_lists[-1] - (price_lists[-1] * margin_call[i]))\n",
    "    else:\n",
    "        price_lists = np.append(\n",
    "            price_lists, price_lists[-1] + (price_lists[-1] * margin_call[i]))\n",
    "\n",
    "\n",
    "result = 0\n",
    "for i in range(0, max_cnt):\n",
    "    result += price_lists[i] * bs[i]\n",
    "    avg = result / sum(bs[:i+1])\n",
    "    if direction == 'buy':\n",
    "        close_lists.append(avg + (avg * close_call[i]))\n",
    "    else:\n",
    "        close_lists.append(avg - (avg * close_call[i]))\n",
    "    \n",
    "print(price_lists)\n",
    "print(close_lists)\n",
    "\n",
    "\n",
    "for item in price_lists.round(2):\n",
    "    print(item) \n",
    "\n",
    "\n",
    "\n"
   ]
  },
  {
   "cell_type": "code",
   "execution_count": 8,
   "metadata": {},
   "outputs": [
    {
     "name": "stdout",
     "output_type": "stream",
     "text": [
      "{'status': 'ok', 'data': [{'futures_contract_detail': [{'symbol': 'ETH', 'contract_code': 'ETH-USDT-221111', 'margin_position': 0, 'margin_frozen': 0, 'margin_available': 69.1438391688311, 'profit_unreal': 0, 'liquidation_price': None, 'lever_rate': 5, 'adjust_factor': 0.06, 'contract_type': 'next_week', 'pair': 'ETH-USDT', 'business_type': 'futures', 'trade_partition': 'USDT'}, {'symbol': 'ETH', 'contract_code': 'ETH-USDT-221104', 'margin_position': 0, 'margin_frozen': 0, 'margin_available': 69.1438391688311, 'profit_unreal': 0, 'liquidation_price': None, 'lever_rate': 5, 'adjust_factor': 0.06, 'contract_type': 'this_week', 'pair': 'ETH-USDT', 'business_type': 'futures', 'trade_partition': 'USDT'}, {'symbol': 'BTC', 'contract_code': 'BTC-USDT-221104', 'margin_position': 0, 'margin_frozen': 0, 'margin_available': 69.1438391688311, 'profit_unreal': 0, 'liquidation_price': None, 'lever_rate': 5, 'adjust_factor': 0.04, 'contract_type': 'this_week', 'pair': 'BTC-USDT', 'business_type': 'futures', 'trade_partition': 'USDT'}, {'symbol': 'BTC', 'contract_code': 'BTC-USDT-221111', 'margin_position': 0, 'margin_frozen': 0, 'margin_available': 69.1438391688311, 'profit_unreal': 0, 'liquidation_price': None, 'lever_rate': 5, 'adjust_factor': 0.04, 'contract_type': 'next_week', 'pair': 'BTC-USDT', 'business_type': 'futures', 'trade_partition': 'USDT'}], 'margin_mode': 'cross', 'margin_account': 'USDT', 'margin_asset': 'USDT', 'margin_balance': 72.52090493549775, 'money_in': 0.0, 'money_out': 0.0, 'margin_static': 72.80543493549776, 'margin_position': 1.5388560333333334, 'margin_frozen': 1.8382097333333334, 'profit_real': 3.2999906940000003, 'profit_unreal': -0.28453, 'withdraw_available': 69.1438391688311, 'risk_rate': 33.8265628328694, 'contract_detail': [{'symbol': 'MANA', 'contract_code': 'MANA-USDT', 'margin_position': 0, 'margin_frozen': 0, 'margin_available': 69.1438391688311, 'profit_unreal': 0, 'liquidation_price': None, 'lever_rate': 5, 'adjust_factor': 0.1, 'contract_type': 'swap', 'pair': 'MANA-USDT', 'business_type': 'swap', 'trade_partition': 'USDT'}, {'symbol': 'NKN', 'contract_code': 'NKN-USDT', 'margin_position': 0, 'margin_frozen': 0, 'margin_available': 69.1438391688311, 'profit_unreal': 0, 'liquidation_price': None, 'lever_rate': 5, 'adjust_factor': 0.1, 'contract_type': 'swap', 'pair': 'NKN-USDT', 'business_type': 'swap', 'trade_partition': 'USDT'}, {'symbol': 'CHZ', 'contract_code': 'CHZ-USDT', 'margin_position': 0, 'margin_frozen': 0.0, 'margin_available': 54.57191958441555, 'profit_unreal': 0, 'liquidation_price': None, 'lever_rate': 75, 'adjust_factor': 0.7, 'contract_type': 'swap', 'pair': 'CHZ-USDT', 'business_type': 'swap', 'trade_partition': 'USDT'}, {'symbol': 'DOT', 'contract_code': 'DOT-USDT', 'margin_position': 0, 'margin_frozen': 0, 'margin_available': 69.1438391688311, 'profit_unreal': 0, 'liquidation_price': None, 'lever_rate': 75, 'adjust_factor': 0.7, 'contract_type': 'swap', 'pair': 'DOT-USDT', 'business_type': 'swap', 'trade_partition': 'USDT'}, {'symbol': 'OKB', 'contract_code': 'OKB-USDT', 'margin_position': 0, 'margin_frozen': 0, 'margin_available': 69.1438391688311, 'profit_unreal': 0, 'liquidation_price': None, 'lever_rate': 5, 'adjust_factor': 0.1, 'contract_type': 'swap', 'pair': 'OKB-USDT', 'business_type': 'swap', 'trade_partition': 'USDT'}, {'symbol': 'KNC', 'contract_code': 'KNC-USDT', 'margin_position': 0, 'margin_frozen': 0, 'margin_available': 69.1438391688311, 'profit_unreal': 0, 'liquidation_price': None, 'lever_rate': 5, 'adjust_factor': 0.1, 'contract_type': 'swap', 'pair': 'KNC-USDT', 'business_type': 'swap', 'trade_partition': 'USDT'}, {'symbol': 'MINA', 'contract_code': 'MINA-USDT', 'margin_position': 0.055035, 'margin_frozen': 0.0, 'margin_available': 69.1438391688311, 'profit_unreal': -0.01016, 'liquidation_price': 47.519151707297006, 'lever_rate': 20, 'adjust_factor': 0.4, 'contract_type': 'swap', 'pair': 'MINA-USDT', 'business_type': 'swap', 'trade_partition': 'USDT'}, {'symbol': 'EOS', 'contract_code': 'EOS-USDT', 'margin_position': 0, 'margin_frozen': 0, 'margin_available': 69.1438391688311, 'profit_unreal': 0, 'liquidation_price': None, 'lever_rate': 5, 'adjust_factor': 0.06, 'contract_type': 'swap', 'pair': 'EOS-USDT', 'business_type': 'swap', 'trade_partition': 'USDT'}, {'symbol': 'XTZ', 'contract_code': 'XTZ-USDT', 'margin_position': 0, 'margin_frozen': 0, 'margin_available': 69.1438391688311, 'profit_unreal': 0, 'liquidation_price': None, 'lever_rate': 5, 'adjust_factor': 0.1, 'contract_type': 'swap', 'pair': 'XTZ-USDT', 'business_type': 'swap', 'trade_partition': 'USDT'}, {'symbol': 'LUNA', 'contract_code': 'LUNA-USDT', 'margin_position': 0, 'margin_frozen': 0.0, 'margin_available': 69.1438391688311, 'profit_unreal': 0, 'liquidation_price': None, 'lever_rate': 10, 'adjust_factor': 0.2, 'contract_type': 'swap', 'pair': 'LUNA-USDT', 'business_type': 'swap', 'trade_partition': 'USDT'}, {'symbol': 'GRT', 'contract_code': 'GRT-USDT', 'margin_position': 0, 'margin_frozen': 0, 'margin_available': 69.1438391688311, 'profit_unreal': 0, 'liquidation_price': None, 'lever_rate': 5, 'adjust_factor': 0.1, 'contract_type': 'swap', 'pair': 'GRT-USDT', 'business_type': 'swap', 'trade_partition': 'USDT'}, {'symbol': 'XCN', 'contract_code': 'XCN-USDT', 'margin_position': 0, 'margin_frozen': 0, 'margin_available': 69.1438391688311, 'profit_unreal': 0, 'liquidation_price': None, 'lever_rate': 5, 'adjust_factor': 0.1, 'contract_type': 'swap', 'pair': 'XCN-USDT', 'business_type': 'swap', 'trade_partition': 'USDT'}, {'symbol': 'SLP', 'contract_code': 'SLP-USDT', 'margin_position': 0, 'margin_frozen': 0, 'margin_available': 69.1438391688311, 'profit_unreal': 0, 'liquidation_price': None, 'lever_rate': 5, 'adjust_factor': 0.1, 'contract_type': 'swap', 'pair': 'SLP-USDT', 'business_type': 'swap', 'trade_partition': 'USDT'}, {'symbol': 'AGLD', 'contract_code': 'AGLD-USDT', 'margin_position': 0, 'margin_frozen': 0.0, 'margin_available': 69.1438391688311, 'profit_unreal': 0, 'liquidation_price': None, 'lever_rate': 20, 'adjust_factor': 0.4, 'contract_type': 'swap', 'pair': 'AGLD-USDT', 'business_type': 'swap', 'trade_partition': 'USDT'}, {'symbol': 'RVN', 'contract_code': 'RVN-USDT', 'margin_position': 0, 'margin_frozen': 0, 'margin_available': 69.1438391688311, 'profit_unreal': 0, 'liquidation_price': None, 'lever_rate': 5, 'adjust_factor': 0.1, 'contract_type': 'swap', 'pair': 'RVN-USDT', 'business_type': 'swap', 'trade_partition': 'USDT'}, {'symbol': 'OP', 'contract_code': 'OP-USDT', 'margin_position': 0.076454, 'margin_frozen': 0.089096, 'margin_available': 69.1438391688311, 'profit_unreal': 0.002929999999999999, 'liquidation_price': 101.34652508706502, 'lever_rate': 10, 'adjust_factor': 0.2, 'contract_type': 'swap', 'pair': 'OP-USDT', 'business_type': 'swap', 'trade_partition': 'USDT'}, {'symbol': 'IOTX', 'contract_code': 'IOTX-USDT', 'margin_position': 0, 'margin_frozen': 0, 'margin_available': 69.1438391688311, 'profit_unreal': 0, 'liquidation_price': None, 'lever_rate': 5, 'adjust_factor': 0.1, 'contract_type': 'swap', 'pair': 'IOTX-USDT', 'business_type': 'swap', 'trade_partition': 'USDT'}, {'symbol': 'IOST', 'contract_code': 'IOST-USDT', 'margin_position': 0, 'margin_frozen': 0, 'margin_available': 69.1438391688311, 'profit_unreal': 0, 'liquidation_price': None, 'lever_rate': 5, 'adjust_factor': 0.1, 'contract_type': 'swap', 'pair': 'IOST-USDT', 'business_type': 'swap', 'trade_partition': 'USDT'}, {'symbol': 'REN', 'contract_code': 'REN-USDT', 'margin_position': 0, 'margin_frozen': 0, 'margin_available': 69.1438391688311, 'profit_unreal': 0, 'liquidation_price': None, 'lever_rate': 5, 'adjust_factor': 0.1, 'contract_type': 'swap', 'pair': 'REN-USDT', 'business_type': 'swap', 'trade_partition': 'USDT'}, {'symbol': 'LUNC', 'contract_code': 'LUNC-USDT', 'margin_position': 0, 'margin_frozen': 0.0, 'margin_available': 69.1438391688311, 'profit_unreal': 0, 'liquidation_price': None, 'lever_rate': 10, 'adjust_factor': 0.2, 'contract_type': 'swap', 'pair': 'LUNC-USDT', 'business_type': 'swap', 'trade_partition': 'USDT'}, {'symbol': 'IOTA', 'contract_code': 'IOTA-USDT', 'margin_position': 0, 'margin_frozen': 0, 'margin_available': 69.1438391688311, 'profit_unreal': 0, 'liquidation_price': None, 'lever_rate': 5, 'adjust_factor': 0.1, 'contract_type': 'swap', 'pair': 'IOTA-USDT', 'business_type': 'swap', 'trade_partition': 'USDT'}, {'symbol': 'ETHW', 'contract_code': 'ETHW-USDT', 'margin_position': 0.020535, 'margin_frozen': 0.02812, 'margin_available': 69.1438391688311, 'profit_unreal': 0.00276, 'liquidation_price': 2346.1125853648505, 'lever_rate': 10, 'adjust_factor': 0.2, 'contract_type': 'swap', 'pair': 'ETHW-USDT', 'business_type': 'swap', 'trade_partition': 'USDT'}, {'symbol': 'KSM', 'contract_code': 'KSM-USDT', 'margin_position': 0, 'margin_frozen': 0, 'margin_available': 69.1438391688311, 'profit_unreal': 0, 'liquidation_price': None, 'lever_rate': 5, 'adjust_factor': 0.1, 'contract_type': 'swap', 'pair': 'KSM-USDT', 'business_type': 'swap', 'trade_partition': 'USDT'}, {'symbol': 'ALICE', 'contract_code': 'ALICE-USDT', 'margin_position': 0, 'margin_frozen': 0, 'margin_available': 69.1438391688311, 'profit_unreal': 0, 'liquidation_price': None, 'lever_rate': 5, 'adjust_factor': 0.1, 'contract_type': 'swap', 'pair': 'ALICE-USDT', 'business_type': 'swap', 'trade_partition': 'USDT'}, {'symbol': 'ICP', 'contract_code': 'ICP-USDT', 'margin_position': 0, 'margin_frozen': 0, 'margin_available': 69.1438391688311, 'profit_unreal': 0, 'liquidation_price': None, 'lever_rate': 75, 'adjust_factor': 0.7, 'contract_type': 'swap', 'pair': 'ICP-USDT', 'business_type': 'swap', 'trade_partition': 'USDT'}, {'symbol': 'ETH', 'contract_code': 'ETH-USDT', 'margin_position': 0, 'margin_frozen': 0.0, 'margin_available': 49.57191958441555, 'profit_unreal': 0, 'liquidation_price': None, 'lever_rate': 200, 'adjust_factor': 0.825, 'contract_type': 'swap', 'pair': 'ETH-USDT', 'business_type': 'swap', 'trade_partition': 'USDT'}, {'symbol': 'STORJ', 'contract_code': 'STORJ-USDT', 'margin_position': 0, 'margin_frozen': 0, 'margin_available': 69.1438391688311, 'profit_unreal': 0, 'liquidation_price': None, 'lever_rate': 5, 'adjust_factor': 0.1, 'contract_type': 'swap', 'pair': 'STORJ-USDT', 'business_type': 'swap', 'trade_partition': 'USDT'}, {'symbol': 'CEL', 'contract_code': 'CEL-USDT', 'margin_position': 0, 'margin_frozen': 0, 'margin_available': 69.1438391688311, 'profit_unreal': 0, 'liquidation_price': None, 'lever_rate': 5, 'adjust_factor': 0.1, 'contract_type': 'swap', 'pair': 'CEL-USDT', 'business_type': 'swap', 'trade_partition': 'USDT'}, {'symbol': 'COTI', 'contract_code': 'COTI-USDT', 'margin_position': 0, 'margin_frozen': 0, 'margin_available': 69.1438391688311, 'profit_unreal': 0, 'liquidation_price': None, 'lever_rate': 5, 'adjust_factor': 0.1, 'contract_type': 'swap', 'pair': 'COTI-USDT', 'business_type': 'swap', 'trade_partition': 'USDT'}, {'symbol': 'GMT', 'contract_code': 'GMT-USDT', 'margin_position': 0, 'margin_frozen': 0.0, 'margin_available': 54.57191958441555, 'profit_unreal': 0, 'liquidation_price': None, 'lever_rate': 75, 'adjust_factor': 0.7, 'contract_type': 'swap', 'pair': 'GMT-USDT', 'business_type': 'swap', 'trade_partition': 'USDT'}, {'symbol': 'QTUM', 'contract_code': 'QTUM-USDT', 'margin_position': 0, 'margin_frozen': 0, 'margin_available': 69.1438391688311, 'profit_unreal': 0, 'liquidation_price': None, 'lever_rate': 5, 'adjust_factor': 0.1, 'contract_type': 'swap', 'pair': 'QTUM-USDT', 'business_type': 'swap', 'trade_partition': 'USDT'}, {'symbol': 'BSV', 'contract_code': 'BSV-USDT', 'margin_position': 0, 'margin_frozen': 0, 'margin_available': 69.1438391688311, 'profit_unreal': 0, 'liquidation_price': None, 'lever_rate': 75, 'adjust_factor': 0.65, 'contract_type': 'swap', 'pair': 'BSV-USDT', 'business_type': 'swap', 'trade_partition': 'USDT'}, {'symbol': 'BTC', 'contract_code': 'BTC-USDT', 'margin_position': 0, 'margin_frozen': 0, 'margin_available': 69.1438391688311, 'profit_unreal': 0, 'liquidation_price': None, 'lever_rate': 10, 'adjust_factor': 0.075, 'contract_type': 'swap', 'pair': 'BTC-USDT', 'business_type': 'swap', 'trade_partition': 'USDT'}, {'symbol': 'XEC', 'contract_code': 'XEC-USDT', 'margin_position': 0, 'margin_frozen': 0, 'margin_available': 69.1438391688311, 'profit_unreal': 0, 'liquidation_price': None, 'lever_rate': 5, 'adjust_factor': 0.1, 'contract_type': 'swap', 'pair': 'XEC-USDT', 'business_type': 'swap', 'trade_partition': 'USDT'}, {'symbol': 'AXS', 'contract_code': 'AXS-USDT', 'margin_position': 0.0584064, 'margin_frozen': 0.0769232, 'margin_available': 69.1438391688311, 'profit_unreal': -0.00294, 'liquidation_price': None, 'lever_rate': 50, 'adjust_factor': 0.65, 'contract_type': 'swap', 'pair': 'AXS-USDT', 'business_type': 'swap', 'trade_partition': 'USDT'}, {'symbol': 'LINA', 'contract_code': 'LINA-USDT', 'margin_position': 0, 'margin_frozen': 0.0, 'margin_available': 69.1438391688311, 'profit_unreal': 0, 'liquidation_price': None, 'lever_rate': 20, 'adjust_factor': 0.4, 'contract_type': 'swap', 'pair': 'LINA-USDT', 'business_type': 'swap', 'trade_partition': 'USDT'}, {'symbol': 'ETC', 'contract_code': 'ETC-USDT', 'margin_position': 0, 'margin_frozen': 0, 'margin_available': 69.1438391688311, 'profit_unreal': 0, 'liquidation_price': None, 'lever_rate': 5, 'adjust_factor': 0.075, 'contract_type': 'swap', 'pair': 'ETC-USDT', 'business_type': 'swap', 'trade_partition': 'USDT'}, {'symbol': 'OMG', 'contract_code': 'OMG-USDT', 'margin_position': 0, 'margin_frozen': 0, 'margin_available': 69.1438391688311, 'profit_unreal': 0, 'liquidation_price': None, 'lever_rate': 5, 'adjust_factor': 0.1, 'contract_type': 'swap', 'pair': 'OMG-USDT', 'business_type': 'swap', 'trade_partition': 'USDT'}, {'symbol': 'PEOPLE', 'contract_code': 'PEOPLE-USDT', 'margin_position': 0, 'margin_frozen': 0, 'margin_available': 69.1438391688311, 'profit_unreal': 0, 'liquidation_price': None, 'lever_rate': 5, 'adjust_factor': 0.1, 'contract_type': 'swap', 'pair': 'PEOPLE-USDT', 'business_type': 'swap', 'trade_partition': 'USDT'}, {'symbol': 'BADGER', 'contract_code': 'BADGER-USDT', 'margin_position': 0, 'margin_frozen': 0, 'margin_available': 69.1438391688311, 'profit_unreal': 0, 'liquidation_price': None, 'lever_rate': 5, 'adjust_factor': 0.1, 'contract_type': 'swap', 'pair': 'BADGER-USDT', 'business_type': 'swap', 'trade_partition': 'USDT'}, {'symbol': 'FTM', 'contract_code': 'FTM-USDT', 'margin_position': 0, 'margin_frozen': 0.0, 'margin_available': 69.1438391688311, 'profit_unreal': 0, 'liquidation_price': None, 'lever_rate': 50, 'adjust_factor': 0.65, 'contract_type': 'swap', 'pair': 'FTM-USDT', 'business_type': 'swap', 'trade_partition': 'USDT'}, {'symbol': 'ACH', 'contract_code': 'ACH-USDT', 'margin_position': 0, 'margin_frozen': 0, 'margin_available': 69.1438391688311, 'profit_unreal': 0, 'liquidation_price': None, 'lever_rate': 5, 'adjust_factor': 0.1, 'contract_type': 'swap', 'pair': 'ACH-USDT', 'business_type': 'swap', 'trade_partition': 'USDT'}, {'symbol': 'VET', 'contract_code': 'VET-USDT', 'margin_position': 0, 'margin_frozen': 0, 'margin_available': 69.1438391688311, 'profit_unreal': 0, 'liquidation_price': None, 'lever_rate': 5, 'adjust_factor': 0.1, 'contract_type': 'swap', 'pair': 'VET-USDT', 'business_type': 'swap', 'trade_partition': 'USDT'}, {'symbol': 'BCH', 'contract_code': 'BCH-USDT', 'margin_position': 0, 'margin_frozen': 0, 'margin_available': 69.1438391688311, 'profit_unreal': 0, 'liquidation_price': None, 'lever_rate': 75, 'adjust_factor': 0.6, 'contract_type': 'swap', 'pair': 'BCH-USDT', 'business_type': 'swap', 'trade_partition': 'USDT'}, {'symbol': 'APE', 'contract_code': 'APE-USDT', 'margin_position': 0, 'margin_frozen': 0.0, 'margin_available': 54.57191958441555, 'profit_unreal': 0, 'liquidation_price': None, 'lever_rate': 75, 'adjust_factor': 0.7, 'contract_type': 'swap', 'pair': 'APE-USDT', 'business_type': 'swap', 'trade_partition': 'USDT'}, {'symbol': 'ZIL', 'contract_code': 'ZIL-USDT', 'margin_position': 0, 'margin_frozen': 0, 'margin_available': 69.1438391688311, 'profit_unreal': 0, 'liquidation_price': None, 'lever_rate': 5, 'adjust_factor': 0.1, 'contract_type': 'swap', 'pair': 'ZIL-USDT', 'business_type': 'swap', 'trade_partition': 'USDT'}, {'symbol': 'FLOW', 'contract_code': 'FLOW-USDT', 'margin_position': 0, 'margin_frozen': 0, 'margin_available': 69.1438391688311, 'profit_unreal': 0, 'liquidation_price': None, 'lever_rate': 5, 'adjust_factor': 0.1, 'contract_type': 'swap', 'pair': 'FLOW-USDT', 'business_type': 'swap', 'trade_partition': 'USDT'}, {'symbol': 'IMX', 'contract_code': 'IMX-USDT', 'margin_position': 0.003771, 'margin_frozen': 0.005056, 'margin_available': 69.1438391688311, 'profit_unreal': -0.00146, 'liquidation_price': 236.17173169517744, 'lever_rate': 50, 'adjust_factor': 0.65, 'contract_type': 'swap', 'pair': 'IMX-USDT', 'business_type': 'swap', 'trade_partition': 'USDT'}, {'symbol': 'KAVA', 'contract_code': 'KAVA-USDT', 'margin_position': 0, 'margin_frozen': 0, 'margin_available': 69.1438391688311, 'profit_unreal': 0, 'liquidation_price': None, 'lever_rate': 5, 'adjust_factor': 0.1, 'contract_type': 'swap', 'pair': 'KAVA-USDT', 'business_type': 'swap', 'trade_partition': 'USDT'}, {'symbol': 'COMP', 'contract_code': 'COMP-USDT', 'margin_position': 0, 'margin_frozen': 0, 'margin_available': 69.1438391688311, 'profit_unreal': 0, 'liquidation_price': None, 'lever_rate': 5, 'adjust_factor': 0.1, 'contract_type': 'swap', 'pair': 'COMP-USDT', 'business_type': 'swap', 'trade_partition': 'USDT'}, {'symbol': 'BTS', 'contract_code': 'BTS-USDT', 'margin_position': 0, 'margin_frozen': 0, 'margin_available': 69.1438391688311, 'profit_unreal': 0, 'liquidation_price': None, 'lever_rate': 5, 'adjust_factor': 0.1, 'contract_type': 'swap', 'pair': 'BTS-USDT', 'business_type': 'swap', 'trade_partition': 'USDT'}, {'symbol': 'LOOKS', 'contract_code': 'LOOKS-USDT', 'margin_position': 0, 'margin_frozen': 0, 'margin_available': 69.1438391688311, 'profit_unreal': 0, 'liquidation_price': None, 'lever_rate': 5, 'adjust_factor': 0.1, 'contract_type': 'swap', 'pair': 'LOOKS-USDT', 'business_type': 'swap', 'trade_partition': 'USDT'}, {'symbol': 'ALGO', 'contract_code': 'ALGO-USDT', 'margin_position': 0, 'margin_frozen': 0, 'margin_available': 69.1438391688311, 'profit_unreal': 0, 'liquidation_price': None, 'lever_rate': 5, 'adjust_factor': 0.1, 'contract_type': 'swap', 'pair': 'ALGO-USDT', 'business_type': 'swap', 'trade_partition': 'USDT'}, {'symbol': 'WAVES', 'contract_code': 'WAVES-USDT', 'margin_position': 0.518616, 'margin_frozen': 0.58528, 'margin_available': 69.1438391688311, 'profit_unreal': -0.0838, 'liquidation_price': None, 'lever_rate': 50, 'adjust_factor': 0.65, 'contract_type': 'swap', 'pair': 'WAVES-USDT', 'business_type': 'swap', 'trade_partition': 'USDT'}, {'symbol': 'MTL', 'contract_code': 'MTL-USDT', 'margin_position': 0, 'margin_frozen': 0, 'margin_available': 69.1438391688311, 'profit_unreal': 0, 'liquidation_price': None, 'lever_rate': 5, 'adjust_factor': 0.1, 'contract_type': 'swap', 'pair': 'MTL-USDT', 'business_type': 'swap', 'trade_partition': 'USDT'}, {'symbol': 'APT', 'contract_code': 'APT-USDT', 'margin_position': 0, 'margin_frozen': 0.0, 'margin_available': 69.1438391688311, 'profit_unreal': 0, 'liquidation_price': None, 'lever_rate': 10, 'adjust_factor': 0.2, 'contract_type': 'swap', 'pair': 'APT-USDT', 'business_type': 'swap', 'trade_partition': 'USDT'}, {'symbol': 'TRX', 'contract_code': 'TRX-USDT', 'margin_position': 0, 'margin_frozen': 0, 'margin_available': 69.1438391688311, 'profit_unreal': 0, 'liquidation_price': None, 'lever_rate': 75, 'adjust_factor': 0.65, 'contract_type': 'swap', 'pair': 'TRX-USDT', 'business_type': 'swap', 'trade_partition': 'USDT'}, {'symbol': 'CELR', 'contract_code': 'CELR-USDT', 'margin_position': 0, 'margin_frozen': 0.0, 'margin_available': 69.1438391688311, 'profit_unreal': 0, 'liquidation_price': None, 'lever_rate': 20, 'adjust_factor': 0.4, 'contract_type': 'swap', 'pair': 'CELR-USDT', 'business_type': 'swap', 'trade_partition': 'USDT'}, {'symbol': 'LRC', 'contract_code': 'LRC-USDT', 'margin_position': 0, 'margin_frozen': 0, 'margin_available': 69.1438391688311, 'profit_unreal': 0, 'liquidation_price': None, 'lever_rate': 5, 'adjust_factor': 0.1, 'contract_type': 'swap', 'pair': 'LRC-USDT', 'business_type': 'swap', 'trade_partition': 'USDT'}, {'symbol': 'HT', 'contract_code': 'HT-USDT', 'margin_position': 0, 'margin_frozen': 0, 'margin_available': 69.1438391688311, 'profit_unreal': 0, 'liquidation_price': None, 'lever_rate': 20, 'adjust_factor': 0.4, 'contract_type': 'swap', 'pair': 'HT-USDT', 'business_type': 'swap', 'trade_partition': 'USDT'}, {'symbol': 'REEF', 'contract_code': 'REEF-USDT', 'margin_position': 0, 'margin_frozen': 0, 'margin_available': 69.1438391688311, 'profit_unreal': 0, 'liquidation_price': None, 'lever_rate': 5, 'adjust_factor': 0.1, 'contract_type': 'swap', 'pair': 'REEF-USDT', 'business_type': 'swap', 'trade_partition': 'USDT'}, {'symbol': 'DYDX', 'contract_code': 'DYDX-USDT', 'margin_position': 0, 'margin_frozen': 0, 'margin_available': 69.1438391688311, 'profit_unreal': 0, 'liquidation_price': None, 'lever_rate': 50, 'adjust_factor': 0.65, 'contract_type': 'swap', 'pair': 'DYDX-USDT', 'business_type': 'swap', 'trade_partition': 'USDT'}, {'symbol': 'ANKR', 'contract_code': 'ANKR-USDT', 'margin_position': 0, 'margin_frozen': 0, 'margin_available': 69.1438391688311, 'profit_unreal': 0, 'liquidation_price': None, 'lever_rate': 5, 'adjust_factor': 0.1, 'contract_type': 'swap', 'pair': 'ANKR-USDT', 'business_type': 'swap', 'trade_partition': 'USDT'}, {'symbol': 'SAND', 'contract_code': 'SAND-USDT', 'margin_position': 0, 'margin_frozen': 0, 'margin_available': 69.1438391688311, 'profit_unreal': 0, 'liquidation_price': None, 'lever_rate': 5, 'adjust_factor': 0.1, 'contract_type': 'swap', 'pair': 'SAND-USDT', 'business_type': 'swap', 'trade_partition': 'USDT'}, {'symbol': 'ADA', 'contract_code': 'ADA-USDT', 'margin_position': 0, 'margin_frozen': 0, 'margin_available': 69.1438391688311, 'profit_unreal': 0, 'liquidation_price': None, 'lever_rate': 75, 'adjust_factor': 0.7, 'contract_type': 'swap', 'pair': 'ADA-USDT', 'business_type': 'swap', 'trade_partition': 'USDT'}, {'symbol': 'SHIB', 'contract_code': 'SHIB-USDT', 'margin_position': 0, 'margin_frozen': 0, 'margin_available': 69.1438391688311, 'profit_unreal': 0, 'liquidation_price': None, 'lever_rate': 10, 'adjust_factor': 0.2, 'contract_type': 'swap', 'pair': 'SHIB-USDT', 'business_type': 'swap', 'trade_partition': 'USDT'}, {'symbol': 'ENJ', 'contract_code': 'ENJ-USDT', 'margin_position': 0, 'margin_frozen': 0, 'margin_available': 69.1438391688311, 'profit_unreal': 0, 'liquidation_price': None, 'lever_rate': 5, 'adjust_factor': 0.1, 'contract_type': 'swap', 'pair': 'ENJ-USDT', 'business_type': 'swap', 'trade_partition': 'USDT'}, {'symbol': 'CRO', 'contract_code': 'CRO-USDT', 'margin_position': 0, 'margin_frozen': 0, 'margin_available': 69.1438391688311, 'profit_unreal': 0, 'liquidation_price': None, 'lever_rate': 5, 'adjust_factor': 0.1, 'contract_type': 'swap', 'pair': 'CRO-USDT', 'business_type': 'swap', 'trade_partition': 'USDT'}, {'symbol': 'VRA', 'contract_code': 'VRA-USDT', 'margin_position': 0, 'margin_frozen': 0, 'margin_available': 69.1438391688311, 'profit_unreal': 0, 'liquidation_price': None, 'lever_rate': 5, 'adjust_factor': 0.1, 'contract_type': 'swap', 'pair': 'VRA-USDT', 'business_type': 'swap', 'trade_partition': 'USDT'}, {'symbol': 'SRM', 'contract_code': 'SRM-USDT', 'margin_position': 0, 'margin_frozen': 0, 'margin_available': 69.1438391688311, 'profit_unreal': 0, 'liquidation_price': None, 'lever_rate': 5, 'adjust_factor': 0.1, 'contract_type': 'swap', 'pair': 'SRM-USDT', 'business_type': 'swap', 'trade_partition': 'USDT'}, {'symbol': 'SOL', 'contract_code': 'SOL-USDT', 'margin_position': 0, 'margin_frozen': 0, 'margin_available': 69.1438391688311, 'profit_unreal': 0, 'liquidation_price': None, 'lever_rate': 5, 'adjust_factor': 0.1, 'contract_type': 'swap', 'pair': 'SOL-USDT', 'business_type': 'swap', 'trade_partition': 'USDT'}, {'symbol': 'API3', 'contract_code': 'API3-USDT', 'margin_position': 0, 'margin_frozen': 0, 'margin_available': 69.1438391688311, 'profit_unreal': 0, 'liquidation_price': None, 'lever_rate': 5, 'adjust_factor': 0.1, 'contract_type': 'swap', 'pair': 'API3-USDT', 'business_type': 'swap', 'trade_partition': 'USDT'}, {'symbol': 'ZRX', 'contract_code': 'ZRX-USDT', 'margin_position': 0, 'margin_frozen': 0, 'margin_available': 69.1438391688311, 'profit_unreal': 0, 'liquidation_price': None, 'lever_rate': 5, 'adjust_factor': 0.1, 'contract_type': 'swap', 'pair': 'ZRX-USDT', 'business_type': 'swap', 'trade_partition': 'USDT'}, {'symbol': 'YFI', 'contract_code': 'YFI-USDT', 'margin_position': 0, 'margin_frozen': 0, 'margin_available': 54.57191958441555, 'profit_unreal': 0, 'liquidation_price': None, 'lever_rate': 75, 'adjust_factor': 0.7, 'contract_type': 'swap', 'pair': 'YFI-USDT', 'business_type': 'swap', 'trade_partition': 'USDT'}, {'symbol': 'CTSI', 'contract_code': 'CTSI-USDT', 'margin_position': 0, 'margin_frozen': 0, 'margin_available': 69.1438391688311, 'profit_unreal': 0, 'liquidation_price': None, 'lever_rate': 5, 'adjust_factor': 0.1, 'contract_type': 'swap', 'pair': 'CTSI-USDT', 'business_type': 'swap', 'trade_partition': 'USDT'}, {'symbol': 'UNI', 'contract_code': 'UNI-USDT', 'margin_position': 0, 'margin_frozen': 0.0, 'margin_available': 69.1438391688311, 'profit_unreal': 0, 'liquidation_price': None, 'lever_rate': 50, 'adjust_factor': 0.65, 'contract_type': 'swap', 'pair': 'UNI-USDT', 'business_type': 'swap', 'trade_partition': 'USDT'}, {'symbol': 'FIL', 'contract_code': 'FIL-USDT', 'margin_position': 0, 'margin_frozen': 0, 'margin_available': 69.1438391688311, 'profit_unreal': 0, 'liquidation_price': None, 'lever_rate': 75, 'adjust_factor': 0.7, 'contract_type': 'swap', 'pair': 'FIL-USDT', 'business_type': 'swap', 'trade_partition': 'USDT'}, {'symbol': 'C98', 'contract_code': 'C98-USDT', 'margin_position': 0.051465, 'margin_frozen': 0.06956, 'margin_available': 69.1438391688311, 'profit_unreal': 0.000199999999999998, 'liquidation_price': 23.735775853648505, 'lever_rate': 20, 'adjust_factor': 0.4, 'contract_type': 'swap', 'pair': 'C98-USDT', 'business_type': 'swap', 'trade_partition': 'USDT'}, {'symbol': 'RSR', 'contract_code': 'RSR-USDT', 'margin_position': 0, 'margin_frozen': 0, 'margin_available': 69.1438391688311, 'profit_unreal': 0, 'liquidation_price': None, 'lever_rate': 5, 'adjust_factor': 0.1, 'contract_type': 'swap', 'pair': 'RSR-USDT', 'business_type': 'swap', 'trade_partition': 'USDT'}, {'symbol': 'JST', 'contract_code': 'JST-USDT', 'margin_position': 0, 'margin_frozen': 0, 'margin_available': 69.1438391688311, 'profit_unreal': 0, 'liquidation_price': None, 'lever_rate': 5, 'adjust_factor': 0.1, 'contract_type': 'swap', 'pair': 'JST-USDT', 'business_type': 'swap', 'trade_partition': 'USDT'}, {'symbol': 'AAVE', 'contract_code': 'AAVE-USDT', 'margin_position': 0, 'margin_frozen': 0, 'margin_available': 69.1438391688311, 'profit_unreal': 0, 'liquidation_price': None, 'lever_rate': 5, 'adjust_factor': 0.1, 'contract_type': 'swap', 'pair': 'AAVE-USDT', 'business_type': 'swap', 'trade_partition': 'USDT'}, {'symbol': '1INCH', 'contract_code': '1INCH-USDT', 'margin_position': 0, 'margin_frozen': 0, 'margin_available': 69.1438391688311, 'profit_unreal': 0, 'liquidation_price': None, 'lever_rate': 50, 'adjust_factor': 0.65, 'contract_type': 'swap', 'pair': '1INCH-USDT', 'business_type': 'swap', 'trade_partition': 'USDT'}, {'symbol': 'MATIC', 'contract_code': 'MATIC-USDT', 'margin_position': 0, 'margin_frozen': 0, 'margin_available': 69.1438391688311, 'profit_unreal': 0, 'liquidation_price': None, 'lever_rate': 5, 'adjust_factor': 0.1, 'contract_type': 'swap', 'pair': 'MATIC-USDT', 'business_type': 'swap', 'trade_partition': 'USDT'}, {'symbol': 'DOGE', 'contract_code': 'DOGE-USDT', 'margin_position': 0.18656133333333333, 'margin_frozen': 0.36706666666666665, 'margin_available': 69.1438391688311, 'profit_unreal': 0.0881, 'liquidation_price': None, 'lever_rate': 75, 'adjust_factor': 0.7, 'contract_type': 'swap', 'pair': 'DOGE-USDT', 'business_type': 'swap', 'trade_partition': 'USDT'}, {'symbol': 'YFII', 'contract_code': 'YFII-USDT', 'margin_position': 0, 'margin_frozen': 0, 'margin_available': 69.1438391688311, 'profit_unreal': 0, 'liquidation_price': None, 'lever_rate': 5, 'adjust_factor': 0.1, 'contract_type': 'swap', 'pair': 'YFII-USDT', 'business_type': 'swap', 'trade_partition': 'USDT'}, {'symbol': 'ARPA', 'contract_code': 'ARPA-USDT', 'margin_position': 0, 'margin_frozen': 0.0, 'margin_available': 69.1438391688311, 'profit_unreal': 0, 'liquidation_price': None, 'lever_rate': 20, 'adjust_factor': 0.4, 'contract_type': 'swap', 'pair': 'ARPA-USDT', 'business_type': 'swap', 'trade_partition': 'USDT'}, {'symbol': 'ONT', 'contract_code': 'ONT-USDT', 'margin_position': 0, 'margin_frozen': 0, 'margin_available': 69.1438391688311, 'profit_unreal': 0, 'liquidation_price': None, 'lever_rate': 5, 'adjust_factor': 0.1, 'contract_type': 'swap', 'pair': 'ONT-USDT', 'business_type': 'swap', 'trade_partition': 'USDT'}, {'symbol': 'QNT', 'contract_code': 'QNT-USDT', 'margin_position': 0, 'margin_frozen': 0.0, 'margin_available': 69.1438391688311, 'profit_unreal': 0, 'liquidation_price': None, 'lever_rate': 20, 'adjust_factor': 0.4, 'contract_type': 'swap', 'pair': 'QNT-USDT', 'business_type': 'swap', 'trade_partition': 'USDT'}, {'symbol': 'THETA', 'contract_code': 'THETA-USDT', 'margin_position': 0, 'margin_frozen': 0, 'margin_available': 69.1438391688311, 'profit_unreal': 0, 'liquidation_price': None, 'lever_rate': 5, 'adjust_factor': 0.1, 'contract_type': 'swap', 'pair': 'THETA-USDT', 'business_type': 'swap', 'trade_partition': 'USDT'}, {'symbol': 'NEAR', 'contract_code': 'NEAR-USDT', 'margin_position': 0, 'margin_frozen': 0, 'margin_available': 69.1438391688311, 'profit_unreal': 0, 'liquidation_price': None, 'lever_rate': 5, 'adjust_factor': 0.1, 'contract_type': 'swap', 'pair': 'NEAR-USDT', 'business_type': 'swap', 'trade_partition': 'USDT'}, {'symbol': 'HBAR', 'contract_code': 'HBAR-USDT', 'margin_position': 0, 'margin_frozen': 0, 'margin_available': 69.1438391688311, 'profit_unreal': 0, 'liquidation_price': None, 'lever_rate': 5, 'adjust_factor': 0.1, 'contract_type': 'swap', 'pair': 'HBAR-USDT', 'business_type': 'swap', 'trade_partition': 'USDT'}, {'symbol': 'FTT', 'contract_code': 'FTT-USDT', 'margin_position': 0, 'margin_frozen': 0, 'margin_available': 69.1438391688311, 'profit_unreal': 0, 'liquidation_price': None, 'lever_rate': 5, 'adjust_factor': 0.1, 'contract_type': 'swap', 'pair': 'FTT-USDT', 'business_type': 'swap', 'trade_partition': 'USDT'}, {'symbol': 'BICO', 'contract_code': 'BICO-USDT', 'margin_position': 0.0020555, 'margin_frozen': 0.004122, 'margin_available': 69.1438391688311, 'profit_unreal': -0.0003, 'liquidation_price': 702.1913756094551, 'lever_rate': 20, 'adjust_factor': 0.4, 'contract_type': 'swap', 'pair': 'BICO-USDT', 'business_type': 'swap', 'trade_partition': 'USDT'}, {'symbol': 'FITFI', 'contract_code': 'FITFI-USDT', 'margin_position': 0, 'margin_frozen': 0.0, 'margin_available': 69.1438391688311, 'profit_unreal': 0, 'liquidation_price': None, 'lever_rate': 20, 'adjust_factor': 0.4, 'contract_type': 'swap', 'pair': 'FITFI-USDT', 'business_type': 'swap', 'trade_partition': 'USDT'}, {'symbol': 'CLV', 'contract_code': 'CLV-USDT', 'margin_position': 0, 'margin_frozen': 0, 'margin_available': 69.1438391688311, 'profit_unreal': 0, 'liquidation_price': None, 'lever_rate': 5, 'adjust_factor': 0.1, 'contract_type': 'swap', 'pair': 'CLV-USDT', 'business_type': 'swap', 'trade_partition': 'USDT'}, {'symbol': 'XRP', 'contract_code': 'XRP-USDT', 'margin_position': 0, 'margin_frozen': 0, 'margin_available': 69.1438391688311, 'profit_unreal': 0, 'liquidation_price': None, 'lever_rate': 5, 'adjust_factor': 0.075, 'contract_type': 'swap', 'pair': 'XRP-USDT', 'business_type': 'swap', 'trade_partition': 'USDT'}, {'symbol': 'ENS', 'contract_code': 'ENS-USDT', 'margin_position': 0.0106614, 'margin_frozen': 0.014356, 'margin_available': 69.1438391688311, 'profit_unreal': -0.00182, 'liquidation_price': 2373.2013169517745, 'lever_rate': 50, 'adjust_factor': 0.65, 'contract_type': 'swap', 'pair': 'ENS-USDT', 'business_type': 'swap', 'trade_partition': 'USDT'}, {'symbol': 'LPT', 'contract_code': 'LPT-USDT', 'margin_position': 0, 'margin_frozen': 0, 'margin_available': 69.1438391688311, 'profit_unreal': 0, 'liquidation_price': None, 'lever_rate': 5, 'adjust_factor': 0.1, 'contract_type': 'swap', 'pair': 'LPT-USDT', 'business_type': 'swap', 'trade_partition': 'USDT'}, {'symbol': 'BNB', 'contract_code': 'BNB-USDT', 'margin_position': 0, 'margin_frozen': 0, 'margin_available': 69.1438391688311, 'profit_unreal': 0, 'liquidation_price': None, 'lever_rate': 10, 'adjust_factor': 0.2, 'contract_type': 'swap', 'pair': 'BNB-USDT', 'business_type': 'swap', 'trade_partition': 'USDT'}, {'symbol': 'CHR', 'contract_code': 'CHR-USDT', 'margin_position': 0, 'margin_frozen': 0, 'margin_available': 69.1438391688311, 'profit_unreal': 0, 'liquidation_price': None, 'lever_rate': 5, 'adjust_factor': 0.1, 'contract_type': 'swap', 'pair': 'CHR-USDT', 'business_type': 'swap', 'trade_partition': 'USDT'}, {'symbol': 'GAL', 'contract_code': 'GAL-USDT', 'margin_position': 0, 'margin_frozen': 0.0, 'margin_available': 69.1438391688311, 'profit_unreal': 0, 'liquidation_price': None, 'lever_rate': 50, 'adjust_factor': 0.65, 'contract_type': 'swap', 'pair': 'GAL-USDT', 'business_type': 'swap', 'trade_partition': 'USDT'}, {'symbol': 'ONE', 'contract_code': 'ONE-USDT', 'margin_position': 0, 'margin_frozen': 0, 'margin_available': 69.1438391688311, 'profit_unreal': 0, 'liquidation_price': None, 'lever_rate': 5, 'adjust_factor': 0.1, 'contract_type': 'swap', 'pair': 'ONE-USDT', 'business_type': 'swap', 'trade_partition': 'USDT'}, {'symbol': 'SUSHI', 'contract_code': 'SUSHI-USDT', 'margin_position': 0.54369, 'margin_frozen': 0.576064, 'margin_available': 69.1438391688311, 'profit_unreal': -0.29259999999999997, 'liquidation_price': None, 'lever_rate': 50, 'adjust_factor': 0.65, 'contract_type': 'swap', 'pair': 'SUSHI-USDT', 'business_type': 'swap', 'trade_partition': 'USDT'}, {'symbol': 'MKR', 'contract_code': 'MKR-USDT', 'margin_position': 0, 'margin_frozen': 0, 'margin_available': 69.1438391688311, 'profit_unreal': 0, 'liquidation_price': None, 'lever_rate': 5, 'adjust_factor': 0.1, 'contract_type': 'swap', 'pair': 'MKR-USDT', 'business_type': 'swap', 'trade_partition': 'USDT'}, {'symbol': 'LTC', 'contract_code': 'LTC-USDT', 'margin_position': 0, 'margin_frozen': 0, 'margin_available': 69.1438391688311, 'profit_unreal': 0, 'liquidation_price': None, 'lever_rate': 75, 'adjust_factor': 0.6, 'contract_type': 'swap', 'pair': 'LTC-USDT', 'business_type': 'swap', 'trade_partition': 'USDT'}, {'symbol': 'GALA', 'contract_code': 'GALA-USDT', 'margin_position': 0, 'margin_frozen': 0, 'margin_available': 69.1438391688311, 'profit_unreal': 0, 'liquidation_price': None, 'lever_rate': 5, 'adjust_factor': 0.1, 'contract_type': 'swap', 'pair': 'GALA-USDT', 'business_type': 'swap', 'trade_partition': 'USDT'}, {'symbol': 'CRV', 'contract_code': 'CRV-USDT', 'margin_position': 0, 'margin_frozen': 0.0, 'margin_available': 69.1438391688311, 'profit_unreal': 0, 'liquidation_price': None, 'lever_rate': 50, 'adjust_factor': 0.65, 'contract_type': 'swap', 'pair': 'CRV-USDT', 'business_type': 'swap', 'trade_partition': 'USDT'}, {'symbol': 'AVAX', 'contract_code': 'AVAX-USDT', 'margin_position': 0, 'margin_frozen': 0, 'margin_available': 69.1438391688311, 'profit_unreal': 0, 'liquidation_price': None, 'lever_rate': 5, 'adjust_factor': 0.1, 'contract_type': 'swap', 'pair': 'AVAX-USDT', 'business_type': 'swap', 'trade_partition': 'USDT'}, {'symbol': 'SNX', 'contract_code': 'SNX-USDT', 'margin_position': 0, 'margin_frozen': 0.0, 'margin_available': 69.1438391688311, 'profit_unreal': 0, 'liquidation_price': None, 'lever_rate': 50, 'adjust_factor': 0.65, 'contract_type': 'swap', 'pair': 'SNX-USDT', 'business_type': 'swap', 'trade_partition': 'USDT'}, {'symbol': 'XLM', 'contract_code': 'XLM-USDT', 'margin_position': 0, 'margin_frozen': 0, 'margin_available': 69.1438391688311, 'profit_unreal': 0, 'liquidation_price': None, 'lever_rate': 5, 'adjust_factor': 0.1, 'contract_type': 'swap', 'pair': 'XLM-USDT', 'business_type': 'swap', 'trade_partition': 'USDT'}, {'symbol': 'LINK', 'contract_code': 'LINK-USDT', 'margin_position': 0.0103252, 'margin_frozen': 0.020116266666666667, 'margin_available': 69.1438391688311, 'profit_unreal': 0.01241, 'liquidation_price': None, 'lever_rate': 75, 'adjust_factor': 0.7, 'contract_type': 'swap', 'pair': 'LINK-USDT', 'business_type': 'swap', 'trade_partition': 'USDT'}, {'symbol': 'EGLD', 'contract_code': 'EGLD-USDT', 'margin_position': 0, 'margin_frozen': 0, 'margin_available': 69.1438391688311, 'profit_unreal': 0, 'liquidation_price': None, 'lever_rate': 5, 'adjust_factor': 0.1, 'contract_type': 'swap', 'pair': 'EGLD-USDT', 'business_type': 'swap', 'trade_partition': 'USDT'}, {'symbol': 'JASMY', 'contract_code': 'JASMY-USDT', 'margin_position': 0.0012802, 'margin_frozen': 0.0024496, 'margin_available': 69.1438391688311, 'profit_unreal': 0.00215, 'liquidation_price': None, 'lever_rate': 50, 'adjust_factor': 0.65, 'contract_type': 'swap', 'pair': 'JASMY-USDT', 'business_type': 'swap', 'trade_partition': 'USDT'}, {'symbol': 'RNDR', 'contract_code': 'RNDR-USDT', 'margin_position': 0, 'margin_frozen': 0, 'margin_available': 69.1438391688311, 'profit_unreal': 0, 'liquidation_price': None, 'lever_rate': 5, 'adjust_factor': 0.1, 'contract_type': 'swap', 'pair': 'RNDR-USDT', 'business_type': 'swap', 'trade_partition': 'USDT'}, {'symbol': 'MDX', 'contract_code': 'MDX-USDT', 'margin_position': 0, 'margin_frozen': 0.0, 'margin_available': 69.1438391688311, 'profit_unreal': 0, 'liquidation_price': None, 'lever_rate': 20, 'adjust_factor': 0.4, 'contract_type': 'swap', 'pair': 'MDX-USDT', 'business_type': 'swap', 'trade_partition': 'USDT'}, {'symbol': 'WIN', 'contract_code': 'WIN-USDT', 'margin_position': 0, 'margin_frozen': 0, 'margin_available': 69.1438391688311, 'profit_unreal': 0, 'liquidation_price': None, 'lever_rate': 5, 'adjust_factor': 0.1, 'contract_type': 'swap', 'pair': 'WIN-USDT', 'business_type': 'swap', 'trade_partition': 'USDT'}, {'symbol': 'NEO', 'contract_code': 'NEO-USDT', 'margin_position': 0, 'margin_frozen': 0, 'margin_available': 69.1438391688311, 'profit_unreal': 0, 'liquidation_price': None, 'lever_rate': 5, 'adjust_factor': 0.1, 'contract_type': 'swap', 'pair': 'NEO-USDT', 'business_type': 'swap', 'trade_partition': 'USDT'}, {'symbol': 'TRIBE', 'contract_code': 'TRIBE-USDT', 'margin_position': 0, 'margin_frozen': 0.0, 'margin_available': 69.1438391688311, 'profit_unreal': 0, 'liquidation_price': None, 'lever_rate': 20, 'adjust_factor': 0.4, 'contract_type': 'swap', 'pair': 'TRIBE-USDT', 'business_type': 'swap', 'trade_partition': 'USDT'}, {'symbol': 'ATOM', 'contract_code': 'ATOM-USDT', 'margin_position': 0, 'margin_frozen': 0, 'margin_available': 69.1438391688311, 'profit_unreal': 0, 'liquidation_price': None, 'lever_rate': 5, 'adjust_factor': 0.1, 'contract_type': 'swap', 'pair': 'ATOM-USDT', 'business_type': 'swap', 'trade_partition': 'USDT'}, {'symbol': 'BAT', 'contract_code': 'BAT-USDT', 'margin_position': 0, 'margin_frozen': 0, 'margin_available': 69.1438391688311, 'profit_unreal': 0, 'liquidation_price': None, 'lever_rate': 5, 'adjust_factor': 0.1, 'contract_type': 'swap', 'pair': 'BAT-USDT', 'business_type': 'swap', 'trade_partition': 'USDT'}], 'position_mode': 'dual_side', 'fixed_margin_position': None}], 'ts': 1667109080002}\n",
      "6\n",
      "当前k线len 96\n",
      "max: {'id': 1667065500, 'open': 0.145849, 'close': 0.136717, 'low': 0.132236, 'high': 0.151281, 'amount': 129121800, 'vol': 1291218, 'trade_turnover': 18504798.4376, 'count': 9776}, min: {'id': 1667023200, 'open': 0.085054, 'close': 0.08425, 'low': 0.084069, 'high': 0.085252, 'amount': 9409200, 'vol': 94092, 'trade_turnover': 795902.5882, 'count': 610}\n",
      "max_index: 47, min_index: 0\n",
      "change: 79.9486136387967\n",
      "middle: 0.117675\n",
      "last: {'id': 1667108700, 'open': 0.138181, 'close': 0.139921, 'low': 0.137595, 'high': 0.140671, 'amount': 12347400, 'vol': 123474, 'trade_turnover': 1716904.202, 'count': 812}\n",
      "{'status': 'ok', 'data': [{'symbol': 'DOGE', 'contract_code': 'DOGE-USDT', 'contract_size': 100.0, 'price_tick': 1e-06, 'delivery_date': '', 'delivery_time': '', 'create_date': '20210113', 'contract_status': 1, 'settlement_date': '1667116800000', 'support_margin_mode': 'all', 'business_type': 'swap', 'pair': 'DOGE-USDT', 'contract_type': 'swap', 'trade_partition': 'USDT'}], 'ts': 1667109080327}\n",
      "maxv: 47, minv: 72\n",
      "maxv_kline: {'id': 1667065500, 'open': 0.145849, 'close': 0.136717, 'low': 0.132236, 'high': 0.151281, 'amount': 129121800, 'vol': 1291218, 'trade_turnover': 18504798.4376, 'count': 9776}, minv_kline: {'id': 1667088000, 'open': 0.121726, 'close': 0.117055, 'low': 0.114353, 'high': 0.123211, 'amount': 22651000, 'vol': 226510, 'trade_turnover': 2686424.5704, 'count': 1783}\n",
      "se_change: 32.29298750360726\n",
      "次级振幅大于5%， 关闭多头马丁\n",
      "{'status': 'ok', 'data': {'orders': [], 'total_page': 1, 'current_page': 1, 'total_size': 0}, 'ts': 1667109080439}\n",
      "{'status': 'ok', 'data': {'orders': [], 'total_page': 1, 'current_page': 1, 'total_size': 0}, 'ts': 1667109080559}\n"
     ]
    }
   ],
   "source": [
    "import time\n",
    "import numpy as np\n",
    "from threading import Timer\n",
    "from huobi.linear_swap.rest import account, market, order, trigger_order\n",
    "from config.linairx001 import ACCESS_KEY, SECRET_KEY\n",
    "\n",
    "symbol = 'DOGE-USDT'\n",
    "\n",
    "client = market.Market()\n",
    "orderClient = order.Order(ACCESS_KEY,\n",
    "                          SECRET_KEY)\n",
    "triggerOrderClient = trigger_order.TriggerOrder(ACCESS_KEY,\n",
    "                          SECRET_KEY)\n",
    "accountClient = account.Account(ACCESS_KEY, SECRET_KEY)\n",
    "\n",
    "result = accountClient.cross_get_account_info({\"margin_account\": \"USDT\"})\n",
    "# result = accountClient.get_account_info({\"contract_code\": 'XRP-USD'})\n",
    "# result = accountClient.get_position_info({\"contract_code\": 'XRP-USD'})\n",
    "\n",
    "print(result)\n",
    "\n",
    "# 价格精度 数值\n",
    "result = client.get_contract_info({\"contract_code\": symbol})\n",
    "price_tick = str(result.get('data')[0].get('price_tick'))\n",
    "\n",
    "if '1e-' in price_tick:\n",
    "    print(int(price_tick.split('-')[1]))\n",
    "else:\n",
    "    print(len(price_tick.split('.')[1]))\n",
    "\n",
    "def order(symbol: str, volume: int, offset: str, direction: str, lever_rate: int):  # 下单\n",
    "    print(\n",
    "        f\"全部 平仓 symbol: {symbol}, volume: {volume}, offset: {offset}, direction: {direction}\")\n",
    "    return orderClient.cross_order({\n",
    "        \"contract_code\": symbol,\n",
    "        \"volume\": volume,\n",
    "        \"direction\": direction,\n",
    "        \"offset\": offset,\n",
    "        \"lever_rate\": lever_rate,\n",
    "        \"order_price_type\": 'optimal_20'\n",
    "    })\n",
    "\n",
    "\n",
    "def get_contract_info(): # 获取合约信息和杠杆倍数\n",
    "    contract_info = client.get_contract_info({\n",
    "        \"contract_code\": \"DOGE-USDT\"\n",
    "    })\n",
    "    print(contract_info)\n",
    "    return contract_info\n",
    "\n",
    "\n",
    "def fetchKLines(symbol: str, interval: str, limit: str):\n",
    "    return client.get_kline(\n",
    "        {\"contract_code\": symbol, \"period\": interval, \"size\": limit})\n",
    "\n",
    "\n",
    "result = fetchKLines(symbol=symbol, interval='15min', limit='96')\n",
    "\n",
    "# print(result)\n",
    "max_index = 0\n",
    "min_index = 0\n",
    "klines = []\n",
    "\n",
    "if not result == None and len(result.get('data')) > 0:\n",
    "    klines = result.get('data')\n",
    "\n",
    "    print(f\"当前k线len {len(klines)}\")\n",
    "    for i in range(1, len(klines)):\n",
    "        max_index = max_index if klines[max_index].get(\n",
    "            'high') > klines[i].get('high') else i\n",
    "        min_index = min_index if klines[min_index].get(\n",
    "            'low') < klines[i].get('low') else i\n",
    "\n",
    "print(f\"max: {klines[max_index]}, min: {klines[min_index]}\")\n",
    "print(f\"max_index: {max_index}, min_index: {min_index}\")\n",
    "\n",
    "high = klines[max_index].get('high')\n",
    "low = klines[min_index].get('low')\n",
    "middle = ((high - low) / 2) + low\n",
    "\n",
    "change = ((high - low) / low) * 100\n",
    "\n",
    "print(f\"change: {change}\")\n",
    "print(f\"middle: {middle}\")\n",
    "print(f\"last: {klines[-1]}\")\n",
    "\n",
    "get_contract_info()\n",
    "\n",
    "def cross_get_position_info():  # 当前用户持仓\n",
    "    print(\n",
    "        f\"当前品种\")\n",
    "    return accountClient.cross_get_position_info({\n",
    "    })\n",
    "\n",
    "# position = cross_get_position_info()\n",
    "# print(f\"position: {position}\")\n",
    "# if not position == None and len(position.get('data')) > 0:\n",
    "#     for item in position.get('data'):\n",
    "#         ordRes = order(symbol=item.get('contract_code'), volume=int(item.get(\n",
    "#             'volume')),  offset='close', direction='sell' if item.get('direction') == 'buy' else 'buy', lever_rate=item.get('lever_rate'))\n",
    "#         print(f\"平仓订单返回值: {ordRes}\")\n",
    "#         time.sleep(1)\n",
    "\n",
    "if change > 5:\n",
    "    if max_index - min_index >= 6:  # 最大值和最小值的间隔必须要大于6根k线，过滤急拉急跌的行情\n",
    "        maxv = max_index\n",
    "        minv = max_index\n",
    "        if len(klines) == max_index + 1:\n",
    "            print('当前k线就是最大值，看之前5根k线量是否递增，是的话直接买入，止损挂在low的位置')\n",
    "        for i in range(max_index + 1, len(klines)):\n",
    "            # print(klines[i])\n",
    "            maxv = maxv if klines[maxv].get(\n",
    "                'high') > klines[i].get('high') else i\n",
    "            minv = minv if klines[minv].get(\n",
    "                'low') < klines[i].get('low') else i\n",
    "        \n",
    "        print(f\"maxv: {maxv}, minv: {minv}\")\n",
    "        print(f\"maxv_kline: {klines[maxv]}, minv_kline: {klines[minv]}\")\n",
    "        se_high = klines[maxv].get('high')\n",
    "        se_low = klines[minv].get('low')\n",
    "        se_change = ((se_high - se_low) / se_low) * 100\n",
    "        print(f\"se_change: {se_change}\")\n",
    "\n",
    "        if se_change <= 5:\n",
    "            print('次级振幅小于5%， 开启多头马丁')\n",
    "        else:\n",
    "            print('次级振幅大于5%， 关闭多头马丁')\n",
    "\n",
    "elif change <= 5:\n",
    "    print('震荡行情，关闭多/空马丁')\n",
    "\n",
    "\n",
    "# 计划委托下单\n",
    "# result = triggerOrderClient.cross_order(data={\n",
    "#     \"contract_code\": symbol,\n",
    "#     \"volume\": 1,\n",
    "#     \"direction\": 'buy',\n",
    "#     \"offset\": 'open',\n",
    "#     \"trigger_type\": 'le',\n",
    "#     \"trigger_price\": '0.00001040',\n",
    "#     # \"order_price\": '0.00001020',\n",
    "#     \"lever_rate\": 10,\n",
    "#     \"order_price_type\": 'optimal_20'\n",
    "# })\n",
    "\n",
    "# 查询当前计划委托\n",
    "result = triggerOrderClient.cross_get_open_orders({\n",
    "    \"contract_code\": symbol,\n",
    "})\n",
    "\n",
    "print(result)\n",
    "\n",
    "# 查询历史计划委托\n",
    "result = triggerOrderClient.cross_get_his_orders({\n",
    "    \"contract_code\": symbol,\n",
    "    \"trade_type\": 0,\n",
    "    \"status\": '0',\n",
    "    \"create_date\": 1\n",
    "})\n",
    "\n",
    "format(float('1.048e-05'), '.8f')\n",
    "# 1035520928496332800\n",
    "# 1035521868078092290\n",
    "print(result)\n"
   ]
  },
  {
   "cell_type": "code",
   "execution_count": 7,
   "metadata": {},
   "outputs": [
    {
     "name": "stdout",
     "output_type": "stream",
     "text": [
      "None\n"
     ]
    }
   ],
   "source": [
    "a = {'a': 1}\n",
    "\n",
    "print(a.get('b'))"
   ]
  },
  {
   "cell_type": "code",
   "execution_count": 41,
   "metadata": {},
   "outputs": [
    {
     "name": "stdout",
     "output_type": "stream",
     "text": [
      "1\n",
      "2\n",
      "3\n",
      "4\n",
      "5\n",
      "6\n",
      "7\n",
      "8\n",
      "9\n",
      "10\n",
      "11\n",
      "12\n",
      "13\n",
      "14\n"
     ]
    }
   ],
   "source": [
    "for i in range(1, 15):\n",
    "    print(i)"
   ]
  },
  {
   "cell_type": "code",
   "execution_count": 53,
   "metadata": {},
   "outputs": [
    {
     "name": "stdout",
     "output_type": "stream",
     "text": [
      "{'status': 'ok', 'data': {'errors': [{'order_id': '1031209124452663299', 'err_code': 1071, 'err_msg': 'Repeated cancellation. Your order has been canceled.'}], 'successes': ''}, 'ts': 1665906508940}\n",
      "{'status': 'ok', 'data': [{'business_type': 'swap', 'contract_type': 'swap', 'pair': 'CLV-USDT', 'symbol': 'CLV', 'contract_code': 'CLV-USDT', 'volume': 1, 'price': 0.09, 'order_price_type': 'limit', 'order_type': 1, 'direction': 'buy', 'offset': 'open', 'lever_rate': 10, 'order_id': 1031209124452663299, 'client_order_id': None, 'created_at': 1665901014203, 'trade_volume': 0, 'trade_turnover': 0, 'fee': 0, 'trade_avg_price': None, 'margin_frozen': 0.0, 'profit': 0, 'status': 7, 'order_source': 'api', 'order_id_str': '1031209124452663299', 'fee_asset': 'USDT', 'liquidation_type': '0', 'canceled_at': 1665901034528, 'margin_asset': 'USDT', 'margin_account': 'USDT', 'margin_mode': 'cross', 'is_tpsl': 0, 'real_profit': 0, 'trade_partition': 'USDT', 'reduce_only': 0}], 'ts': 1665906509054}\n"
     ]
    }
   ],
   "source": [
    "result = orderClient.cross_cancel({\n",
    "    \"order_id\": '1031209124452663299',\n",
    "    \"contract_code\": 'CLV-USDT'\n",
    "})\n",
    "\n",
    "print(result)\n",
    "result = orderClient.cross_get_order_info({\n",
    "    \"order_id\": '1031209124452663299',\n",
    "    \"contract_code\": 'CLV-USDT'\n",
    "})\n",
    "\n",
    "print(result)"
   ]
  },
  {
   "cell_type": "code",
   "execution_count": 7,
   "metadata": {},
   "outputs": [
    {
     "data": {
      "text/plain": [
       "1"
      ]
     },
     "execution_count": 7,
     "metadata": {},
     "output_type": "execute_result"
    }
   ],
   "source": [
    "def has_task(pm2, name: str):\n",
    "    cnt = 0\n",
    "\n",
    "    for key in pm2:\n",
    "        if name in key:\n",
    "            cnt += 1\n",
    "\n",
    "    return cnt\n",
    "\n",
    "a = {\"aaa123\": 123, \"bbb1323\": 234}\n",
    "\n",
    "has_task(a, \"123\")"
   ]
  },
  {
   "cell_type": "code",
   "execution_count": 5,
   "metadata": {},
   "outputs": [
    {
     "name": "stdout",
     "output_type": "stream",
     "text": [
      "btc 200\n"
     ]
    }
   ],
   "source": [
    "symbol = '23132'\n",
    "lever_rate = '111'\n",
    "\n",
    "symbol, lever_rate = {\n",
    "    \"symbol\": 'btc',\n",
    "    \"lever_rate\": '200'\n",
    "}.values()\n",
    "print(symbol, lever_rate)\n"
   ]
  },
  {
   "cell_type": "code",
   "execution_count": 8,
   "metadata": {},
   "outputs": [],
   "source": [
    "import subprocess\n",
    "import json\n",
    "\n",
    "out = subprocess.run('pm2 jlist', stdout=subprocess.PIPE, shell=True)\n",
    "\n",
    "for item in json.loads(out.stdout):\n",
    "    print(item.get('name'), item.get('pm2_env').get('status'))\n",
    "\n",
    "\n"
   ]
  },
  {
   "cell_type": "code",
   "execution_count": 1,
   "metadata": {},
   "outputs": [
    {
     "data": {
      "text/plain": [
       "3"
      ]
     },
     "execution_count": 1,
     "metadata": {},
     "output_type": "execute_result"
    }
   ],
   "source": [
    "thisdict = {\n",
    "  \"brand\": \"Ford\",\n",
    "  \"model\": \"Mustang\",\n",
    "  \"year\": 1964,\n",
    "  \"year\": 2020\n",
    "}\n",
    "len(thisdict)\n",
    "# thisdict['aaa'] = 345\n",
    "# thisdict\n",
    "# float('-inf')\n"
   ]
  },
  {
   "cell_type": "code",
   "execution_count": 3,
   "metadata": {},
   "outputs": [
    {
     "data": {
      "text/plain": [
       "False"
      ]
     },
     "execution_count": 3,
     "metadata": {},
     "output_type": "execute_result"
    }
   ],
   "source": [
    "i = 'sell'\n",
    "\n",
    "'sell' if i == 'buy' else 'buy'\n",
    "\n",
    "3 / 4 <= 1/2"
   ]
  },
  {
   "cell_type": "code",
   "execution_count": 4,
   "metadata": {},
   "outputs": [
    {
     "data": {
      "text/plain": [
       "[0.0, 0.0025, 0.005, 0.0075, 0.01]"
      ]
     },
     "execution_count": 4,
     "metadata": {},
     "output_type": "execute_result"
    }
   ],
   "source": [
    "import numpy as np\n",
    "\n",
    "np.linspace(0, 0.01, num=5).tolist()\n",
    "\n",
    "# [1, 2, 4, 8, 16, 32, 64, 128, 256, 512, 1024, 2048, 4096, 8192][:5]\n",
    "# [0.01, 0.0075, 0.005, 0.0025, 0.0]\n",
    "# [0.0, 0.0025, 0.005, 0.0075, 0.01]"
   ]
  },
  {
   "cell_type": "code",
   "execution_count": 2,
   "metadata": {},
   "outputs": [
    {
     "data": {
      "text/plain": [
       "[0.01, 0.005, 0.0, -0.004999999999999999, -0.01]"
      ]
     },
     "execution_count": 2,
     "metadata": {},
     "output_type": "execute_result"
    }
   ],
   "source": [
    "import numpy as np\n",
    "\n",
    "np.linspace(0.01, -0.01, num=5).tolist()"
   ]
  },
  {
   "cell_type": "code",
   "execution_count": 11,
   "metadata": {},
   "outputs": [
    {
     "name": "stdout",
     "output_type": "stream",
     "text": [
      "需要delete的service: etc\n",
      "需要delete的service: doge\n",
      "需要delete的service: clv\n",
      "需要create的service: eth\n",
      "需要create的service: icp\n",
      "需要create的service: shib\n"
     ]
    }
   ],
   "source": [
    "a = ['btc', 'etc', 'doge', 'clv', 'fil'] # 原pm2 列表\n",
    "\n",
    "b = ['btc', 'eth', 'fil', 'icp', 'shib'] # 最新的lists\n",
    "\n",
    "for item in a:\n",
    "    if not item in b:\n",
    "        print(f\"需要delete的service: {item}\")\n",
    "\n",
    "for item in b:\n",
    "    if not item in a:\n",
    "        print(f\"需要create的service: {item}\")\n"
   ]
  },
  {
   "cell_type": "code",
   "execution_count": 13,
   "metadata": {},
   "outputs": [
    {
     "name": "stdout",
     "output_type": "stream",
     "text": [
      "1 111\n"
     ]
    }
   ],
   "source": [
    "def a(b: str):\n",
    "    return (1, b)\n",
    "\n",
    "c, x = a('111')\n",
    "\n",
    "print(c,x)"
   ]
  },
  {
   "cell_type": "code",
   "execution_count": 19,
   "metadata": {},
   "outputs": [
    {
     "name": "stdout",
     "output_type": "stream",
     "text": [
      "[{'change': 25.28318985047577, 'name': 'lpt_buy_radical', 'direction': 'buy', 'lever_rate': 20}, {'change': 29.832464442982243, 'name': 'gal_buy_radical', 'direction': 'buy', 'lever_rate': 50}, {'change': 31.76848874598071, 'name': 'flow_buy_radical', 'direction': 'buy', 'lever_rate': 20}, {'change': 33.08550185873605, 'name': 'people_buy_radical', 'direction': 'buy', 'lever_rate': 50}, {'change': 36.8681350278912, 'name': 'api3_buy_radical', 'direction': 'buy', 'lever_rate': 20}]\n"
     ]
    }
   ],
   "source": [
    "result = [{'change': 17.448955644214966, 'name': 'nkn_buy_radical', 'direction': 'buy', 'lever_rate': 20}, {'change': 12.875613821687612, 'name': 'chz_buy_radical', 'direction': 'buy', 'lever_rate': 75}, {'change': 23.94685187981277, 'name': 'mina_buy_radical', 'direction': 'buy', 'lever_rate': 20}, {'change': 8.907172241101762, 'name': 'luna_buy_radical', 'direction': 'buy', 'lever_rate': 10}, {'change': 23.855791357709023, 'name': 'grt_buy_radical', 'direction': 'buy', 'lever_rate': 50}, {'change': 17.10332868398237, 'name': 'xcn_sell_radical', 'direction': 'sell', 'lever_rate': 10}, {'change': 11.84615384615384, 'name': 'agld_buy_radical', 'direction': 'buy', 'lever_rate': 20}, {'change': 17.35213059147763, 'name': 'op_buy_radical', 'direction': 'buy', 'lever_rate': 10}, {'change': 9.121909633418586, 'name': 'ren_buy_radical', 'direction': 'buy', 'lever_rate': 20}, {'change': 9.369154905628296, 'name': 'ethw_buy_radical', 'direction': 'buy', 'lever_rate': 10}, {'change': 8.543689320388358, 'name': 'alice_buy_radical', 'direction': 'buy', 'lever_rate': 50}, {'change': 12.190082644628095, 'name': 'icp_buy_radical', 'direction': 'buy', 'lever_rate': 50}, {'change': 23.1704465747019, 'name': 'storj_buy_radical', 'direction': 'buy', 'lever_rate': 50}, {'change': 8.6930014505855, 'name': 'gmt_buy_radical', 'direction': 'buy', 'lever_rate': 75}, {'change': 8.569271423178552, 'name': 'qtum_buy_radical', 'direction': 'buy', 'lever_rate': 50}, {'change': 15.64986737400531, 'name': 'lina_buy_radical', 'direction': 'buy', 'lever_rate': 20}, {'change': 33.08550185873605, 'name': 'people_buy_radical', 'direction': 'buy', 'lever_rate': 50}, {'change': 10.078979784073619, 'name': 'ape_buy_radical', 'direction': 'buy', 'lever_rate': 75}, {'change': 31.76848874598071, 'name': 'flow_buy_radical', 'direction': 'buy', 'lever_rate': 20}, {'change': 8.973386249562273, 'name': 'algo_buy_radical', 'direction': 'buy', 'lever_rate': 50}, {'change': 11.027127438106525, 'name': 'waves_buy_radical', 'direction': 'buy', 'lever_rate': 50}, {'change': 10.199714693295297, 'name': 'celr_buy_radical', 'direction': 'buy', 'lever_rate': 20}, {'change': 9.178395284494174, 'name': 'lrc_buy_radical', 'direction': 'buy', 'lever_rate': 50}, {'change': 12.844666862918263, 'name': 'ht_buy_radical', 'direction': 'buy', 'lever_rate': 20}, {'change': 8.793663688058476, 'name': 'reef_buy_radical', 'direction': 'buy', 'lever_rate': 20}, {'change': 12.758620689655176, 'name': 'dydx_buy_radical', 'direction': 'buy', 'lever_rate': 50}, {'change': 12.646954043462774, 'name': 'ankr_buy_radical', 'direction': 'buy', 'lever_rate': 20}, {'change': 36.8681350278912, 'name': 'api3_buy_radical', 'direction': 'buy', 'lever_rate': 20}, {'change': 8.091653297132746, 'name': 'zrx_buy_radical', 'direction': 'buy', 'lever_rate': 20}, {'change': 8.365921174041041, 'name': 'uni_buy_radical', 'direction': 'buy', 'lever_rate': 50}, {'change': 17.245461720599856, 'name': 'fil_buy_radical', 'direction': 'buy', 'lever_rate': 75}, {'change': 12.745762711864414, 'name': 'c98_buy_radical', 'direction': 'buy', 'lever_rate': 20}, {'change': 17.54025023324801, 'name': 'matic_buy_radical', 'direction': 'buy', 'lever_rate': 75}, {'change': 12.73908555467848, 'name': 'arpa_buy_radical', 'direction': 'buy', 'lever_rate': 20}, {'change': 11.54540636201119, 'name': 'theta_buy_radical', 'direction': 'buy', 'lever_rate': 50}, {'change': 17.75825346112887, 'name': 'bico_buy_radical', 'direction': 'buy', 'lever_rate': 20}, {'change': 13.894477253553116, 'name': 'ens_buy_radical', 'direction': 'buy', 'lever_rate': 50}, {'change': 25.28318985047577, 'name': 'lpt_buy_radical', 'direction': 'buy', 'lever_rate': 20}, {'change': 10.43620346689401, 'name': 'chr_buy_radical', 'direction': 'buy', 'lever_rate': 20}, {'change': 29.832464442982243, 'name': 'gal_buy_radical', 'direction': 'buy', 'lever_rate': 50}, {'change': 8.875477548308512, 'name': 'one_buy_radical', 'direction': 'buy', 'lever_rate': 50}, {'change': 15.67751400373432, 'name': 'sushi_buy_radical', 'direction': 'buy', 'lever_rate': 50}, {'change': 18.50970340534604, 'name': 'ltc_buy_radical', 'direction': 'buy', 'lever_rate': 75}, {'change': 8.295547931428835, 'name': 'avax_buy_radical', 'direction': 'buy', 'lever_rate': 75}, {'change': 9.297413793103448, 'name': 'snx_buy_radical', 'direction': 'buy', 'lever_rate': 50}, {'change': 8.060584958217275, 'name': 'egld_buy_radical', 'direction': 'buy', 'lever_rate': 20}, {'change': 17.41973840665873, 'name': 'jasmy_buy_radical', 'direction': 'buy', 'lever_rate': 50}, {'change': 18.862174060277674, 'name': 'bat_buy_radical', 'direction': 'buy', 'lever_rate': 20}]\n",
    "\n",
    "result.sort(key=lambda x: x.get('change'))\n",
    "print(result[-5:])"
   ]
  },
  {
   "cell_type": "code",
   "execution_count": 1,
   "metadata": {},
   "outputs": [
    {
     "name": "stdout",
     "output_type": "stream",
     "text": [
      "[0.0, 0.0025, 0.005, 0.0075, 0.01]\n",
      "[0.05, 0.04, 0.030000000000000002, 0.020000000000000004, 0.01]\n"
     ]
    }
   ],
   "source": [
    "import numpy as np\n",
    "print(np.linspace(0, 0.01, num=5).tolist())\n",
    "print(np.linspace(0.05, 0.01, num=5).tolist())"
   ]
  },
  {
   "cell_type": "code",
   "execution_count": 19,
   "metadata": {},
   "outputs": [
    {
     "data": {
      "text/plain": [
       "[123.3, 2.0, 2.0, 2.0]"
      ]
     },
     "execution_count": 19,
     "metadata": {},
     "output_type": "execute_result"
    }
   ],
   "source": [
    "[float(item) for item in \"123.3,2,2,2\".split(',')]"
   ]
  },
  {
   "cell_type": "code",
   "execution_count": 3,
   "metadata": {},
   "outputs": [
    {
     "data": {
      "text/plain": [
       "'secret_key'"
      ]
     },
     "execution_count": 3,
     "metadata": {},
     "output_type": "execute_result"
    }
   ],
   "source": [
    "import math\n",
    "\n",
    "math.floor(199.123123 / 100) * 4\n",
    "\n",
    "'SECRET_KEY'.lower()"
   ]
  },
  {
   "cell_type": "code",
   "execution_count": 58,
   "metadata": {},
   "outputs": [
    {
     "name": "stdout",
     "output_type": "stream",
     "text": [
      "1 2\n"
     ]
    }
   ],
   "source": [
    "curr = 0\n",
    "ss = 1\n",
    "\n",
    "def a():\n",
    "    global curr, ss \n",
    "    curr = 1\n",
    "    ss = 2\n",
    "\n",
    "a()\n",
    "print(curr, ss)"
   ]
  },
  {
   "cell_type": "code",
   "execution_count": 2,
   "metadata": {},
   "outputs": [
    {
     "data": {
      "text/plain": [
       "['start',\n",
       " 'main.py',\n",
       " '--name',\n",
       " 'clv_buy',\n",
       " '--interpreter',\n",
       " 'python3',\n",
       " '--',\n",
       " '--symbol',\n",
       " 'CLV',\n",
       " '--max_cnt',\n",
       " '5',\n",
       " '--direction',\n",
       " 'buy',\n",
       " '--margin_call',\n",
       " '\"0.0,0.0025,0.005,0.0075,0.01\"',\n",
       " '--close_call',\n",
       " '\"0.05,0.04,0.03,0.02,0.01\"']"
      ]
     },
     "execution_count": 2,
     "metadata": {},
     "output_type": "execute_result"
    }
   ],
   "source": [
    "'start main.py --name clv_buy --interpreter python3 -- --symbol CLV --max_cnt 5 --direction buy --margin_call \"0.0,0.0025,0.005,0.0075,0.01\" --close_call \"0.05,0.04,0.03,0.02,0.01\"'.split(' ')"
   ]
  }
 ],
 "metadata": {
  "interpreter": {
   "hash": "6ee389b6fd5680d01c44917c1212b4c09ead7d0a63469ff6d06dd80212d603e1"
  },
  "kernelspec": {
   "display_name": "Python 3.8.10 ('env': venv)",
   "language": "python",
   "name": "python3"
  },
  "language_info": {
   "codemirror_mode": {
    "name": "ipython",
    "version": 3
   },
   "file_extension": ".py",
   "mimetype": "text/x-python",
   "name": "python",
   "nbconvert_exporter": "python",
   "pygments_lexer": "ipython3",
   "version": "3.8.10"
  },
  "orig_nbformat": 4
 },
 "nbformat": 4,
 "nbformat_minor": 2
}
