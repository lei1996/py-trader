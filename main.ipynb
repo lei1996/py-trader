{
 "cells": [
  {
   "cell_type": "code",
   "execution_count": 25,
   "metadata": {},
   "outputs": [
    {
     "name": "stdout",
     "output_type": "stream",
     "text": [
      "[2000.  1980.  1960.2]\n"
     ]
    }
   ],
   "source": [
    "import numpy as np\n",
    "\n",
    "\n",
    "class Martingale:\n",
    "    def __init__(self, open_price, max_cnt, direction, bs, margin_call, close_call):\n",
    "        self.max_cnt = max_cnt  # 最大补仓次数\n",
    "        self.direction = direction  # 方向 buy 多 sell 空\n",
    "        self.bs = bs  # 补仓数量 like: [1, 2, 4, 8]...\n",
    "        self.margin_call = margin_call  # 跌 | 涨 1% 补仓\n",
    "        self.close_call = close_call  # 获利多少平仓\n",
    "        self.curr = 0  # 当前开仓次数\n",
    "\n",
    "        self.price_lists = np.array([open_price])\n",
    "\n",
    "        for i in range(1, max_cnt):\n",
    "            if self.direction == 'buy':\n",
    "                self.price_lists = np.append(\n",
    "                    self.price_lists, self.price_lists[-1] - (self.price_lists[-1] * margin_call[i]))\n",
    "            else:\n",
    "                self.price_lists = np.append(\n",
    "                    self.price_lists, self.price_lists[-1] + (self.price_lists[-1] * margin_call[i]))\n",
    "\n",
    "    def is_add_open(self, price):  # 是否加仓\n",
    "        if self.curr >= self.max_cnt:\n",
    "            return []\n",
    "        if self.direction == 'buy':\n",
    "            return self.price_lists[self.price_lists >= price]\n",
    "        else:\n",
    "            return self.price_lists[self.price_lists <= price]\n",
    "\n",
    "    def is_close_all(self, price):  # 是否平仓\n",
    "        if self.curr == 0:\n",
    "            return False\n",
    "\n",
    "        result = 0\n",
    "        for i in range(0, self.curr):\n",
    "            result += self.price_lists[i] * self.bs[i]\n",
    "\n",
    "        avg_price = result / sum(self.bs[:self.curr])\n",
    "\n",
    "        if self.direction == 'buy':\n",
    "            return price > (avg_price + (avg_price * self.close_call[self.curr - 1]))\n",
    "        else:\n",
    "            return price < (avg_price - (avg_price * self.close_call[self.curr - 1]))\n",
    "\n",
    "    def curr_open(self):  # 当前开仓\n",
    "        if self.curr == 0:\n",
    "            return 0\n",
    "        return sum(self.bs[:self.curr])\n",
    "\n",
    "\n",
    "mas = Martingale(open_price=2000, max_cnt=5, direction='buy',\n",
    "                 margin_call=0.01, close_call=0.005)\n",
    "\n",
    "print(mas.is_add_open(1960))\n"
   ]
  },
  {
   "cell_type": "code",
   "execution_count": 31,
   "metadata": {},
   "outputs": [
    {
     "name": "stdout",
     "output_type": "stream",
     "text": [
      "[2000.         1995.         1985.025      1970.1373125  1950.43593938]\n",
      "[2040.0, 2031.6083333333333, 2019.8645, 2004.1558987499998, 1984.1017827516127]\n",
      "2000.0\n",
      "1995.0\n",
      "1985.02\n",
      "1970.14\n",
      "1950.44\n"
     ]
    }
   ],
   "source": [
    "import numpy as np\n",
    "\n",
    "\n",
    "max_cnt = 5\n",
    "direction = 'buy'\n",
    "margin_call = np.linspace(0, 0.01, num=5).tolist()\n",
    "close_call = np.linspace(0.02, 0.01, num=5).tolist()\n",
    "bs = [1, 2, 4, 8, 16, 32, 64, 128, 256, 512, 1024, 2048, 4096, 8192]\n",
    "price_lists = np.array([2000])\n",
    "close_lists = []\n",
    "order_lists = []\n",
    "\n",
    "for i in range(1, max_cnt):\n",
    "    if direction == 'buy':\n",
    "        price_lists = np.append(\n",
    "            price_lists, price_lists[-1] - (price_lists[-1] * margin_call[i]))\n",
    "    else:\n",
    "        price_lists = np.append(\n",
    "            price_lists, price_lists[-1] + (price_lists[-1] * margin_call[i]))\n",
    "\n",
    "\n",
    "result = 0\n",
    "for i in range(0, max_cnt):\n",
    "    result += price_lists[i] * bs[i]\n",
    "    avg = result / sum(bs[:i+1])\n",
    "    if direction == 'buy':\n",
    "        close_lists.append(avg + (avg * close_call[i]))\n",
    "    else:\n",
    "        close_lists.append(avg - (avg * close_call[i]))\n",
    "    \n",
    "print(price_lists)\n",
    "print(close_lists)\n",
    "\n",
    "\n",
    "for item in price_lists.round(2):\n",
    "    print(item) \n",
    "\n",
    "\n",
    "\n"
   ]
  },
  {
   "cell_type": "code",
   "execution_count": 16,
   "metadata": {},
   "outputs": [
    {
     "name": "stdout",
     "output_type": "stream",
     "text": [
      "6\n",
      "当前k线len 96\n",
      "max: {'id': 1667057400, 'open': 0.120803, 'close': 0.1325, 'low': 0.120276, 'high': 0.147287, 'amount': 241209200, 'vol': 2412092, 'trade_turnover': 31987436.0246, 'count': 12775}, min: {'id': 1666983600, 'open': 0.083879, 'close': 0.082845, 'low': 0.08239, 'high': 0.083987, 'amount': 21421400, 'vol': 214214, 'trade_turnover': 1775958.653, 'count': 1387}\n",
      "max_index: 89, min_index: 7\n",
      "change: 78.76805437553101\n",
      "middle: 0.11483850000000001\n",
      "last: {'id': 1667062800, 'open': 0.134312, 'close': 0.138709, 'low': 0.1331, 'high': 0.14, 'amount': 31987400, 'vol': 319874, 'trade_turnover': 4377046.0746, 'count': 2095}\n",
      "[{'symbol': 'mana', 'level_rate': '75'}, {'symbol': 'nkn', 'level_rate': '20'}, {'symbol': 'chz', 'level_rate': '75'}, {'symbol': 'dot', 'level_rate': '75'}, {'symbol': 'okb', 'level_rate': '20'}, {'symbol': 'knc', 'level_rate': '50'}, {'symbol': 'mina', 'level_rate': '20'}, {'symbol': 'eos', 'level_rate': '75'}, {'symbol': 'xtz', 'level_rate': '50'}, {'symbol': 'luna', 'level_rate': '10'}, {'symbol': 'grt', 'level_rate': '50'}, {'symbol': 'xcn', 'level_rate': '10'}, {'symbol': 'slp', 'level_rate': '20'}, {'symbol': 'agld', 'level_rate': '20'}, {'symbol': 'rvn', 'level_rate': '20'}, {'symbol': 'op', 'level_rate': '10'}, {'symbol': 'iotx', 'level_rate': '20'}, {'symbol': 'iost', 'level_rate': '50'}, {'symbol': 'ren', 'level_rate': '20'}, {'symbol': 'lunc', 'level_rate': '10'}, {'symbol': 'iota', 'level_rate': '20'}, {'symbol': 'ethw', 'level_rate': '10'}, {'symbol': 'ksm', 'level_rate': '75'}, {'symbol': 'alice', 'level_rate': '50'}, {'symbol': 'icp', 'level_rate': '50'}, {'symbol': 'eth', 'level_rate': '200'}, {'symbol': 'storj', 'level_rate': '50'}, {'symbol': 'cel', 'level_rate': '10'}, {'symbol': 'coti', 'level_rate': '20'}, {'symbol': 'gmt', 'level_rate': '75'}, {'symbol': 'qtum', 'level_rate': '50'}, {'symbol': 'bsv', 'level_rate': '50'}, {'symbol': 'btc', 'level_rate': '200'}, {'symbol': 'xec', 'level_rate': '20'}, {'symbol': 'axs', 'level_rate': '50'}, {'symbol': 'lina', 'level_rate': '20'}, {'symbol': 'etc', 'level_rate': '75'}, {'symbol': 'omg', 'level_rate': '50'}, {'symbol': 'people', 'level_rate': '50'}, {'symbol': 'badger', 'level_rate': '20'}, {'symbol': 'ftm', 'level_rate': '50'}, {'symbol': 'ach', 'level_rate': '20'}, {'symbol': 'vet', 'level_rate': '50'}, {'symbol': 'bch', 'level_rate': '75'}, {'symbol': 'ape', 'level_rate': '75'}, {'symbol': 'zil', 'level_rate': '50'}, {'symbol': 'flow', 'level_rate': '20'}, {'symbol': 'imx', 'level_rate': '50'}, {'symbol': 'kava', 'level_rate': '75'}, {'symbol': 'comp', 'level_rate': '50'}, {'symbol': 'bts', 'level_rate': '20'}, {'symbol': 'looks', 'level_rate': '20'}, {'symbol': 'algo', 'level_rate': '50'}, {'symbol': 'waves', 'level_rate': '50'}, {'symbol': 'mtl', 'level_rate': '20'}, {'symbol': 'apt', 'level_rate': '10'}, {'symbol': 'trx', 'level_rate': '50'}, {'symbol': 'celr', 'level_rate': '20'}, {'symbol': 'lrc', 'level_rate': '50'}, {'symbol': 'ht', 'level_rate': '20'}, {'symbol': 'reef', 'level_rate': '20'}, {'symbol': 'dydx', 'level_rate': '50'}, {'symbol': 'ankr', 'level_rate': '20'}, {'symbol': 'sand', 'level_rate': '75'}, {'symbol': 'ada', 'level_rate': '75'}, {'symbol': 'shib', 'level_rate': '20'}, {'symbol': 'enj', 'level_rate': '50'}, {'symbol': 'cro', 'level_rate': '50'}, {'symbol': 'vra', 'level_rate': '20'}, {'symbol': 'srm', 'level_rate': '75'}, {'symbol': 'sol', 'level_rate': '75'}, {'symbol': 'api3', 'level_rate': '20'}, {'symbol': 'zrx', 'level_rate': '20'}, {'symbol': 'yfi', 'level_rate': '75'}, {'symbol': 'ctsi', 'level_rate': '20'}, {'symbol': 'uni', 'level_rate': '50'}, {'symbol': 'fil', 'level_rate': '75'}, {'symbol': 'c98', 'level_rate': '20'}, {'symbol': 'rsr', 'level_rate': '50'}, {'symbol': 'jst', 'level_rate': '20'}, {'symbol': 'aave', 'level_rate': '50'}, {'symbol': '1inch', 'level_rate': '50'}, {'symbol': 'matic', 'level_rate': '75'}, {'symbol': 'doge', 'level_rate': '75'}, {'symbol': 'yfii', 'level_rate': '20'}, {'symbol': 'arpa', 'level_rate': '20'}, {'symbol': 'ont', 'level_rate': '50'}, {'symbol': 'qnt', 'level_rate': '20'}, {'symbol': 'theta', 'level_rate': '50'}, {'symbol': 'near', 'level_rate': '75'}, {'symbol': 'hbar', 'level_rate': '20'}, {'symbol': 'ftt', 'level_rate': '50'}, {'symbol': 'bico', 'level_rate': '20'}, {'symbol': 'fitfi', 'level_rate': '20'}, {'symbol': 'clv', 'level_rate': '20'}, {'symbol': 'xrp', 'level_rate': '75'}, {'symbol': 'ens', 'level_rate': '50'}, {'symbol': 'lpt', 'level_rate': '20'}, {'symbol': 'bnb', 'level_rate': '75'}, {'symbol': 'chr', 'level_rate': '20'}, {'symbol': 'gal', 'level_rate': '50'}, {'symbol': 'one', 'level_rate': '50'}, {'symbol': 'sushi', 'level_rate': '50'}, {'symbol': 'mkr', 'level_rate': '50'}, {'symbol': 'ltc', 'level_rate': '75'}, {'symbol': 'gala', 'level_rate': '50'}, {'symbol': 'crv', 'level_rate': '50'}, {'symbol': 'avax', 'level_rate': '75'}, {'symbol': 'snx', 'level_rate': '50'}, {'symbol': 'xlm', 'level_rate': '75'}, {'symbol': 'link', 'level_rate': '75'}, {'symbol': 'egld', 'level_rate': '20'}, {'symbol': 'jasmy', 'level_rate': '50'}, {'symbol': 'rndr', 'level_rate': '20'}, {'symbol': 'mdx', 'level_rate': '20'}, {'symbol': 'win', 'level_rate': '20'}, {'symbol': 'neo', 'level_rate': '75'}, {'symbol': 'tribe', 'level_rate': '20'}, {'symbol': 'atom', 'level_rate': '50'}, {'symbol': 'bat', 'level_rate': '20'}]\n",
      "maxv: 89, minv: 89\n",
      "maxv_kline: {'id': 1667057400, 'open': 0.120803, 'close': 0.1325, 'low': 0.120276, 'high': 0.147287, 'amount': 241209200, 'vol': 2412092, 'trade_turnover': 31987436.0246, 'count': 12775}, minv_kline: {'id': 1667057400, 'open': 0.120803, 'close': 0.1325, 'low': 0.120276, 'high': 0.147287, 'amount': 241209200, 'vol': 2412092, 'trade_turnover': 31987436.0246, 'count': 12775}\n",
      "se_change: 22.457514383584428\n",
      "次级振幅大于5%， 关闭多头马丁\n",
      "{'status': 'ok', 'data': {'orders': [], 'total_page': 1, 'current_page': 1, 'total_size': 0}, 'ts': 1667063323052}\n",
      "{'status': 'ok', 'data': {'orders': [], 'total_page': 1, 'current_page': 1, 'total_size': 0}, 'ts': 1667063323160}\n"
     ]
    }
   ],
   "source": [
    "import time\n",
    "import numpy as np\n",
    "from threading import Timer\n",
    "from huobi.linear_swap.rest import account, market, order, trigger_order\n",
    "from config.linairx001 import ACCESS_KEY, SECRET_KEY\n",
    "\n",
    "symbol = 'DOGE-USDT'\n",
    "\n",
    "client = market.Market()\n",
    "orderClient = order.Order(ACCESS_KEY,\n",
    "                          SECRET_KEY)\n",
    "triggerOrderClient = trigger_order.TriggerOrder(ACCESS_KEY,\n",
    "                          SECRET_KEY)\n",
    "accountClient = account.Account(ACCESS_KEY, SECRET_KEY)\n",
    "\n",
    "result = accountClient.get_balance_valuation({\"valuation_asset\": 'USD'})\n",
    "# result = accountClient.get_account_info({\"contract_code\": 'XRP-USD'})\n",
    "# result = accountClient.get_position_info({\"contract_code\": 'XRP-USD'})\n",
    "\n",
    "\n",
    "# 价格精度 数值\n",
    "result = client.get_contract_info({\"contract_code\": symbol})\n",
    "price_tick = str(result.get('data')[0].get('price_tick'))\n",
    "\n",
    "if '1e-' in price_tick:\n",
    "    print(int(price_tick.split('-')[1]))\n",
    "else:\n",
    "    print(len(price_tick.split('.')[1]))\n",
    "\n",
    "\n",
    "def get_contract_info(): # 获取合约信息和杠杆倍数\n",
    "    contract_info = accountClient.cross_get_available_level_rate({})\n",
    "    result = []\n",
    "    if not contract_info == None and len(contract_info.get('data')) > 0:\n",
    "        for item in contract_info.get('data'):\n",
    "            result.append({\n",
    "                \"symbol\": item.get('contract_code').split('-')[0].lower(),\n",
    "                \"level_rate\": item.get('available_level_rate').split(',')[-1]\n",
    "            })\n",
    "    print(result)\n",
    "    return result\n",
    "\n",
    "\n",
    "def fetchKLines(symbol: str, interval: str, limit: str):\n",
    "    return client.get_kline(\n",
    "        {\"contract_code\": symbol, \"period\": interval, \"size\": limit})\n",
    "\n",
    "\n",
    "result = fetchKLines(symbol=symbol, interval='15min', limit='96')\n",
    "\n",
    "# print(result)\n",
    "max_index = 0\n",
    "min_index = 0\n",
    "klines = []\n",
    "\n",
    "if not result == None and len(result.get('data')) > 0:\n",
    "    klines = result.get('data')\n",
    "\n",
    "    print(f\"当前k线len {len(klines)}\")\n",
    "    for i in range(1, len(klines)):\n",
    "        max_index = max_index if klines[max_index].get(\n",
    "            'high') > klines[i].get('high') else i\n",
    "        min_index = min_index if klines[min_index].get(\n",
    "            'low') < klines[i].get('low') else i\n",
    "\n",
    "print(f\"max: {klines[max_index]}, min: {klines[min_index]}\")\n",
    "print(f\"max_index: {max_index}, min_index: {min_index}\")\n",
    "\n",
    "high = klines[max_index].get('high')\n",
    "low = klines[min_index].get('low')\n",
    "middle = ((high - low) / 2) + low\n",
    "\n",
    "change = ((high - low) / low) * 100\n",
    "\n",
    "print(f\"change: {change}\")\n",
    "print(f\"middle: {middle}\")\n",
    "print(f\"last: {klines[-1]}\")\n",
    "\n",
    "get_contract_info()\n",
    "\n",
    "if change > 5:\n",
    "    if max_index - min_index >= 6:  # 最大值和最小值的间隔必须要大于6根k线，过滤急拉急跌的行情\n",
    "        maxv = max_index\n",
    "        minv = max_index\n",
    "        if len(klines) == max_index + 1:\n",
    "            print('当前k线就是最大值，看之前5根k线量是否递增，是的话直接买入，止损挂在low的位置')\n",
    "        for i in range(max_index + 1, len(klines)):\n",
    "            # print(klines[i])\n",
    "            maxv = maxv if klines[maxv].get(\n",
    "                'high') > klines[i].get('high') else i\n",
    "            minv = minv if klines[minv].get(\n",
    "                'low') < klines[i].get('low') else i\n",
    "        \n",
    "        print(f\"maxv: {maxv}, minv: {minv}\")\n",
    "        print(f\"maxv_kline: {klines[maxv]}, minv_kline: {klines[minv]}\")\n",
    "        se_high = klines[maxv].get('high')\n",
    "        se_low = klines[minv].get('low')\n",
    "        se_change = ((se_high - se_low) / se_low) * 100\n",
    "        print(f\"se_change: {se_change}\")\n",
    "\n",
    "        if se_change <= 5:\n",
    "            print('次级振幅小于5%， 开启多头马丁')\n",
    "        else:\n",
    "            print('次级振幅大于5%， 关闭多头马丁')\n",
    "\n",
    "elif change <= 5:\n",
    "    print('震荡行情，关闭多/空马丁')\n",
    "\n",
    "\n",
    "# 计划委托下单\n",
    "# result = triggerOrderClient.cross_order(data={\n",
    "#     \"contract_code\": symbol,\n",
    "#     \"volume\": 1,\n",
    "#     \"direction\": 'buy',\n",
    "#     \"offset\": 'open',\n",
    "#     \"trigger_type\": 'le',\n",
    "#     \"trigger_price\": '0.00001040',\n",
    "#     # \"order_price\": '0.00001020',\n",
    "#     \"lever_rate\": 10,\n",
    "#     \"order_price_type\": 'optimal_20'\n",
    "# })\n",
    "\n",
    "# 查询当前计划委托\n",
    "result = triggerOrderClient.cross_get_open_orders({\n",
    "    \"contract_code\": symbol,\n",
    "})\n",
    "\n",
    "print(result)\n",
    "\n",
    "# 查询历史计划委托\n",
    "result = triggerOrderClient.cross_get_his_orders({\n",
    "    \"contract_code\": symbol,\n",
    "    \"trade_type\": 0,\n",
    "    \"status\": '0',\n",
    "    \"create_date\": 1\n",
    "})\n",
    "\n",
    "format(float('1.048e-05'), '.8f')\n",
    "# 1035520928496332800\n",
    "# 1035521868078092290\n",
    "print(result)\n"
   ]
  },
  {
   "cell_type": "code",
   "execution_count": 7,
   "metadata": {},
   "outputs": [
    {
     "name": "stdout",
     "output_type": "stream",
     "text": [
      "None\n"
     ]
    }
   ],
   "source": [
    "a = {'a': 1}\n",
    "\n",
    "print(a.get('b'))"
   ]
  },
  {
   "cell_type": "code",
   "execution_count": 41,
   "metadata": {},
   "outputs": [
    {
     "name": "stdout",
     "output_type": "stream",
     "text": [
      "1\n",
      "2\n",
      "3\n",
      "4\n",
      "5\n",
      "6\n",
      "7\n",
      "8\n",
      "9\n",
      "10\n",
      "11\n",
      "12\n",
      "13\n",
      "14\n"
     ]
    }
   ],
   "source": [
    "for i in range(1, 15):\n",
    "    print(i)"
   ]
  },
  {
   "cell_type": "code",
   "execution_count": 53,
   "metadata": {},
   "outputs": [
    {
     "name": "stdout",
     "output_type": "stream",
     "text": [
      "{'status': 'ok', 'data': {'errors': [{'order_id': '1031209124452663299', 'err_code': 1071, 'err_msg': 'Repeated cancellation. Your order has been canceled.'}], 'successes': ''}, 'ts': 1665906508940}\n",
      "{'status': 'ok', 'data': [{'business_type': 'swap', 'contract_type': 'swap', 'pair': 'CLV-USDT', 'symbol': 'CLV', 'contract_code': 'CLV-USDT', 'volume': 1, 'price': 0.09, 'order_price_type': 'limit', 'order_type': 1, 'direction': 'buy', 'offset': 'open', 'lever_rate': 10, 'order_id': 1031209124452663299, 'client_order_id': None, 'created_at': 1665901014203, 'trade_volume': 0, 'trade_turnover': 0, 'fee': 0, 'trade_avg_price': None, 'margin_frozen': 0.0, 'profit': 0, 'status': 7, 'order_source': 'api', 'order_id_str': '1031209124452663299', 'fee_asset': 'USDT', 'liquidation_type': '0', 'canceled_at': 1665901034528, 'margin_asset': 'USDT', 'margin_account': 'USDT', 'margin_mode': 'cross', 'is_tpsl': 0, 'real_profit': 0, 'trade_partition': 'USDT', 'reduce_only': 0}], 'ts': 1665906509054}\n"
     ]
    }
   ],
   "source": [
    "result = orderClient.cross_cancel({\n",
    "    \"order_id\": '1031209124452663299',\n",
    "    \"contract_code\": 'CLV-USDT'\n",
    "})\n",
    "\n",
    "print(result)\n",
    "result = orderClient.cross_get_order_info({\n",
    "    \"order_id\": '1031209124452663299',\n",
    "    \"contract_code\": 'CLV-USDT'\n",
    "})\n",
    "\n",
    "print(result)"
   ]
  },
  {
   "cell_type": "code",
   "execution_count": 5,
   "metadata": {},
   "outputs": [
    {
     "name": "stdout",
     "output_type": "stream",
     "text": [
      "23\n"
     ]
    }
   ],
   "source": [
    "a = 3\n",
    "\n",
    "if not a == None and a > 2:\n",
    "    print(23)"
   ]
  },
  {
   "cell_type": "code",
   "execution_count": 12,
   "metadata": {},
   "outputs": [
    {
     "name": "stdout",
     "output_type": "stream",
     "text": [
      "btc 200\n",
      "eth 200\n",
      "clv 20\n",
      "dydx 50\n",
      "ht 20\n",
      "apt 10\n"
     ]
    }
   ],
   "source": [
    "symbols = [{\n",
    "    \"symbol\": 'btc',\n",
    "    \"lever_rate\": '200'\n",
    "}, {\n",
    "    \"symbol\": 'eth',\n",
    "    \"lever_rate\": '200'\n",
    "}, {\n",
    "    \"symbol\": 'clv',\n",
    "    \"lever_rate\": '20'\n",
    "}, {\n",
    "    \"symbol\": 'dydx',\n",
    "    \"lever_rate\": '50'\n",
    "}, {\n",
    "    \"symbol\": 'ht',\n",
    "    \"lever_rate\": '20'\n",
    "}, {\n",
    "    \"symbol\": 'apt',\n",
    "    \"lever_rate\": '10'\n",
    "}, ]\n",
    "\n",
    "for item in symbols:\n",
    "    symbol, lever_rate = item.values()\n",
    "    print(symbol, lever_rate)"
   ]
  },
  {
   "cell_type": "code",
   "execution_count": 8,
   "metadata": {},
   "outputs": [],
   "source": [
    "import subprocess\n",
    "import json\n",
    "\n",
    "out = subprocess.run('pm2 jlist', stdout=subprocess.PIPE, shell=True)\n",
    "\n",
    "for item in json.loads(out.stdout):\n",
    "    print(item.get('name'), item.get('pm2_env').get('status'))\n",
    "\n",
    "\n"
   ]
  },
  {
   "cell_type": "code",
   "execution_count": 5,
   "metadata": {},
   "outputs": [
    {
     "data": {
      "text/plain": [
       "-inf"
      ]
     },
     "execution_count": 5,
     "metadata": {},
     "output_type": "execute_result"
    }
   ],
   "source": [
    "thisdict = {\n",
    "  \"brand\": \"Ford\",\n",
    "  \"model\": \"Mustang\",\n",
    "  \"year\": 1964,\n",
    "  \"year\": 2020\n",
    "}\n",
    "thisdict\n",
    "# thisdict['aaa'] = 345\n",
    "# thisdict\n",
    "float('-inf')\n"
   ]
  },
  {
   "cell_type": "code",
   "execution_count": 3,
   "metadata": {},
   "outputs": [
    {
     "data": {
      "text/plain": [
       "False"
      ]
     },
     "execution_count": 3,
     "metadata": {},
     "output_type": "execute_result"
    }
   ],
   "source": [
    "i = 'sell'\n",
    "\n",
    "'sell' if i == 'buy' else 'buy'\n",
    "\n",
    "3 / 4 <= 1/2"
   ]
  },
  {
   "cell_type": "code",
   "execution_count": 52,
   "metadata": {},
   "outputs": [
    {
     "data": {
      "text/plain": [
       "array([0.01  , 0.0075, 0.005 , 0.0025, 0.    ])"
      ]
     },
     "execution_count": 52,
     "metadata": {},
     "output_type": "execute_result"
    }
   ],
   "source": [
    "\n",
    "\n",
    "np.linspace(0.01, 0, num=5)\n",
    "\n",
    "# [1, 2, 4, 8, 16, 32, 64, 128, 256, 512, 1024, 2048, 4096, 8192][:5]"
   ]
  },
  {
   "cell_type": "code",
   "execution_count": 2,
   "metadata": {},
   "outputs": [
    {
     "data": {
      "text/plain": [
       "[0.01, 0.005, 0.0, -0.004999999999999999, -0.01]"
      ]
     },
     "execution_count": 2,
     "metadata": {},
     "output_type": "execute_result"
    }
   ],
   "source": [
    "import numpy as np\n",
    "\n",
    "np.linspace(0.01, -0.01, num=5).tolist()"
   ]
  },
  {
   "cell_type": "code",
   "execution_count": 1,
   "metadata": {},
   "outputs": [
    {
     "name": "stdout",
     "output_type": "stream",
     "text": [
      "[0.0, 0.0025, 0.005, 0.0075, 0.01]\n",
      "[0.05, 0.04, 0.030000000000000002, 0.020000000000000004, 0.01]\n"
     ]
    }
   ],
   "source": [
    "import numpy as np\n",
    "print(np.linspace(0, 0.01, num=5).tolist())\n",
    "print(np.linspace(0.05, 0.01, num=5).tolist())"
   ]
  },
  {
   "cell_type": "code",
   "execution_count": 19,
   "metadata": {},
   "outputs": [
    {
     "data": {
      "text/plain": [
       "[123.3, 2.0, 2.0, 2.0]"
      ]
     },
     "execution_count": 19,
     "metadata": {},
     "output_type": "execute_result"
    }
   ],
   "source": [
    "[float(item) for item in \"123.3,2,2,2\".split(',')]"
   ]
  },
  {
   "cell_type": "code",
   "execution_count": 3,
   "metadata": {},
   "outputs": [
    {
     "data": {
      "text/plain": [
       "'secret_key'"
      ]
     },
     "execution_count": 3,
     "metadata": {},
     "output_type": "execute_result"
    }
   ],
   "source": [
    "import math\n",
    "\n",
    "math.floor(199.123123 / 100) * 4\n",
    "\n",
    "'SECRET_KEY'.lower()"
   ]
  },
  {
   "cell_type": "code",
   "execution_count": 58,
   "metadata": {},
   "outputs": [
    {
     "name": "stdout",
     "output_type": "stream",
     "text": [
      "1 2\n"
     ]
    }
   ],
   "source": [
    "curr = 0\n",
    "ss = 1\n",
    "\n",
    "def a():\n",
    "    global curr, ss \n",
    "    curr = 1\n",
    "    ss = 2\n",
    "\n",
    "a()\n",
    "print(curr, ss)"
   ]
  },
  {
   "cell_type": "code",
   "execution_count": 2,
   "metadata": {},
   "outputs": [
    {
     "data": {
      "text/plain": [
       "['start',\n",
       " 'main.py',\n",
       " '--name',\n",
       " 'clv_buy',\n",
       " '--interpreter',\n",
       " 'python3',\n",
       " '--',\n",
       " '--symbol',\n",
       " 'CLV',\n",
       " '--max_cnt',\n",
       " '5',\n",
       " '--direction',\n",
       " 'buy',\n",
       " '--margin_call',\n",
       " '\"0.0,0.0025,0.005,0.0075,0.01\"',\n",
       " '--close_call',\n",
       " '\"0.05,0.04,0.03,0.02,0.01\"']"
      ]
     },
     "execution_count": 2,
     "metadata": {},
     "output_type": "execute_result"
    }
   ],
   "source": [
    "'start main.py --name clv_buy --interpreter python3 -- --symbol CLV --max_cnt 5 --direction buy --margin_call \"0.0,0.0025,0.005,0.0075,0.01\" --close_call \"0.05,0.04,0.03,0.02,0.01\"'.split(' ')"
   ]
  }
 ],
 "metadata": {
  "interpreter": {
   "hash": "6ee389b6fd5680d01c44917c1212b4c09ead7d0a63469ff6d06dd80212d603e1"
  },
  "kernelspec": {
   "display_name": "Python 3.8.10 ('env': venv)",
   "language": "python",
   "name": "python3"
  },
  "language_info": {
   "codemirror_mode": {
    "name": "ipython",
    "version": 3
   },
   "file_extension": ".py",
   "mimetype": "text/x-python",
   "name": "python",
   "nbconvert_exporter": "python",
   "pygments_lexer": "ipython3",
   "version": "3.8.10"
  },
  "orig_nbformat": 4
 },
 "nbformat": 4,
 "nbformat_minor": 2
}
