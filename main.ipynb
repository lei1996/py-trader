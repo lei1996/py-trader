{
 "cells": [
  {
   "cell_type": "code",
   "execution_count": 1,
   "metadata": {},
   "outputs": [
    {
     "name": "stdout",
     "output_type": "stream",
     "text": [
      "[2000.  1980.  1960.2]\n"
     ]
    }
   ],
   "source": [
    "import numpy as np\n",
    "\n",
    "\n",
    "class Martingale:\n",
    "    def __init__(self, open_price, max_cnt, direction, margin_call, close_call):\n",
    "        self.max_cnt = max_cnt  # 最大补仓次数\n",
    "        self.direction = direction  # 方向 buy 多 sell 空\n",
    "        self.bs = np.around(np.geomspace(1, 256, num=9)\n",
    "                            ).astype(int)[:max_cnt]  # 补仓数量\n",
    "        self.margin_call = margin_call  # 跌 | 涨 1% 补仓\n",
    "        self.close_call = close_call  # 获利多少平仓\n",
    "        self.curr = 0  # 当前开仓次数\n",
    "\n",
    "        self.price_lists = np.array([open_price])\n",
    "\n",
    "        for i in range(1, max_cnt):\n",
    "            if self.direction == 'buy':\n",
    "                self.price_lists = np.append(\n",
    "                    self.price_lists, self.price_lists[-1] - (self.price_lists[-1] * margin_call))\n",
    "            else:\n",
    "                self.price_lists = np.append(\n",
    "                    self.price_lists, self.price_lists[-1] + (self.price_lists[-1] * margin_call))\n",
    "\n",
    "    def is_add_open(self, price):  # 是否加仓\n",
    "        if self.direction == 'buy':\n",
    "            return self.price_lists[self.price_lists > price]\n",
    "        else:\n",
    "            return self.price_lists[self.price_lists < price]\n",
    "\n",
    "    def is_close_all(self, price):  # 是否平仓\n",
    "        result = 0\n",
    "        for i in range(0, self.curr):\n",
    "            result += self.price_lists[i] * self.bs[i]\n",
    "\n",
    "        avg_price = result / sum(self.bs[:self.curr])\n",
    "\n",
    "        if self.direction == 'buy':\n",
    "            return price > avg_price\n",
    "        else:\n",
    "            return price < avg_price\n",
    "\n",
    "\n",
    "mas = Martingale(open_price=2000, max_cnt=5, direction='buy',\n",
    "                 margin_call=0.01, close_call=0.005)\n",
    "\n",
    "print(mas.is_add_open(1960))\n"
   ]
  },
  {
   "cell_type": "code",
   "execution_count": null,
   "metadata": {},
   "outputs": [],
   "source": [
    "import time\n",
    "from threading import Timer\n",
    "from huobi.coin_swap.rest import account, market\n",
    "from config.huobi import ACCESS_KEY, SECRET_KEY\n",
    "\n",
    "client = market.Market()\n",
    "\n",
    "\n",
    "def fetchKLines(symbol: str, interval: str, limit: str):\n",
    "    return client.get_kline(\n",
    "        {\"contract_code\": symbol, \"period\": interval, \"size\": limit})\n",
    "\n",
    "\n",
    "def main():\n",
    "    result = fetchKLines('BTC-USD', '1min', '1')\n",
    "    print(result)\n",
    "\n",
    "class RepeatTimer(Timer):\n",
    "    def run(self):\n",
    "        while not self.finished.wait(self.interval):\n",
    "            self.function(*self.args, **self.kwargs)\n",
    "        self.finished.set()\n",
    "        print('Done')\n",
    "\n",
    "\n",
    "timer = RepeatTimer(3, main, [])\n",
    "timer.start()\n"
   ]
  }
 ],
 "metadata": {
  "interpreter": {
   "hash": "6ee389b6fd5680d01c44917c1212b4c09ead7d0a63469ff6d06dd80212d603e1"
  },
  "kernelspec": {
   "display_name": "Python 3.8.10 ('env': venv)",
   "language": "python",
   "name": "python3"
  },
  "language_info": {
   "codemirror_mode": {
    "name": "ipython",
    "version": 3
   },
   "file_extension": ".py",
   "mimetype": "text/x-python",
   "name": "python",
   "nbconvert_exporter": "python",
   "pygments_lexer": "ipython3",
   "version": "3.8.10"
  },
  "orig_nbformat": 4
 },
 "nbformat": 4,
 "nbformat_minor": 2
}
