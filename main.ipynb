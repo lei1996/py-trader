{
 "cells": [
  {
   "cell_type": "code",
   "execution_count": 25,
   "metadata": {},
   "outputs": [
    {
     "name": "stdout",
     "output_type": "stream",
     "text": [
      "[2000.  1980.  1960.2]\n"
     ]
    }
   ],
   "source": [
    "import numpy as np\n",
    "\n",
    "\n",
    "class Martingale:\n",
    "    def __init__(self, open_price, max_cnt, direction, bs, margin_call, close_call):\n",
    "        self.max_cnt = max_cnt  # 最大补仓次数\n",
    "        self.direction = direction  # 方向 buy 多 sell 空\n",
    "        self.bs = bs  # 补仓数量 like: [1, 2, 4, 8]...\n",
    "        self.margin_call = margin_call  # 跌 | 涨 1% 补仓\n",
    "        self.close_call = close_call  # 获利多少平仓\n",
    "        self.curr = 0  # 当前开仓次数\n",
    "\n",
    "        self.price_lists = np.array([open_price])\n",
    "\n",
    "        for i in range(1, max_cnt):\n",
    "            if self.direction == 'buy':\n",
    "                self.price_lists = np.append(\n",
    "                    self.price_lists, self.price_lists[-1] - (self.price_lists[-1] * margin_call[i]))\n",
    "            else:\n",
    "                self.price_lists = np.append(\n",
    "                    self.price_lists, self.price_lists[-1] + (self.price_lists[-1] * margin_call[i]))\n",
    "\n",
    "    def is_add_open(self, price):  # 是否加仓\n",
    "        if self.curr >= self.max_cnt:\n",
    "            return []\n",
    "        if self.direction == 'buy':\n",
    "            return self.price_lists[self.price_lists >= price]\n",
    "        else:\n",
    "            return self.price_lists[self.price_lists <= price]\n",
    "\n",
    "    def is_close_all(self, price):  # 是否平仓\n",
    "        if self.curr == 0:\n",
    "            return False\n",
    "\n",
    "        result = 0\n",
    "        for i in range(0, self.curr):\n",
    "            result += self.price_lists[i] * self.bs[i]\n",
    "\n",
    "        avg_price = result / sum(self.bs[:self.curr])\n",
    "\n",
    "        if self.direction == 'buy':\n",
    "            return price > (avg_price + (avg_price * self.close_call[self.curr - 1]))\n",
    "        else:\n",
    "            return price < (avg_price - (avg_price * self.close_call[self.curr - 1]))\n",
    "\n",
    "    def curr_open(self):  # 当前开仓\n",
    "        if self.curr == 0:\n",
    "            return 0\n",
    "        return sum(self.bs[:self.curr])\n",
    "\n",
    "\n",
    "mas = Martingale(open_price=2000, max_cnt=5, direction='buy',\n",
    "                 margin_call=0.01, close_call=0.005)\n",
    "\n",
    "print(mas.is_add_open(1960))\n"
   ]
  },
  {
   "cell_type": "code",
   "execution_count": 31,
   "metadata": {},
   "outputs": [
    {
     "name": "stdout",
     "output_type": "stream",
     "text": [
      "[2000.         1995.         1985.025      1970.1373125  1950.43593938]\n",
      "[2040.0, 2031.6083333333333, 2019.8645, 2004.1558987499998, 1984.1017827516127]\n",
      "2000.0\n",
      "1995.0\n",
      "1985.02\n",
      "1970.14\n",
      "1950.44\n"
     ]
    }
   ],
   "source": [
    "import numpy as np\n",
    "\n",
    "\n",
    "max_cnt = 5\n",
    "direction = 'buy'\n",
    "margin_call = np.linspace(0, 0.01, num=5).tolist()\n",
    "close_call = np.linspace(0.02, 0.01, num=5).tolist()\n",
    "bs = [1, 2, 4, 8, 16, 32, 64, 128, 256, 512, 1024, 2048, 4096, 8192]\n",
    "price_lists = np.array([2000])\n",
    "close_lists = []\n",
    "order_lists = []\n",
    "\n",
    "for i in range(1, max_cnt):\n",
    "    if direction == 'buy':\n",
    "        price_lists = np.append(\n",
    "            price_lists, price_lists[-1] - (price_lists[-1] * margin_call[i]))\n",
    "    else:\n",
    "        price_lists = np.append(\n",
    "            price_lists, price_lists[-1] + (price_lists[-1] * margin_call[i]))\n",
    "\n",
    "\n",
    "result = 0\n",
    "for i in range(0, max_cnt):\n",
    "    result += price_lists[i] * bs[i]\n",
    "    avg = result / sum(bs[:i+1])\n",
    "    if direction == 'buy':\n",
    "        close_lists.append(avg + (avg * close_call[i]))\n",
    "    else:\n",
    "        close_lists.append(avg - (avg * close_call[i]))\n",
    "    \n",
    "print(price_lists)\n",
    "print(close_lists)\n",
    "\n",
    "\n",
    "for item in price_lists.round(2):\n",
    "    print(item) \n",
    "\n",
    "\n",
    "\n"
   ]
  },
  {
   "cell_type": "code",
   "execution_count": 59,
   "metadata": {},
   "outputs": [
    {
     "name": "stdout",
     "output_type": "stream",
     "text": [
      "4\n",
      "当前k线len 96\n",
      "max: {'id': 1666725300, 'open': 6.5767, 'close': 6.5765, 'low': 6.5697, 'high': 6.622, 'amount': 18226, 'vol': 18226, 'trade_turnover': 120234.7708, 'count': 238}, min: {'id': 1666692000, 'open': 5.9198, 'close': 5.9201, 'low': 5.9087, 'high': 5.9257, 'amount': 4776, 'vol': 4776, 'trade_turnover': 28276.223, 'count': 57}\n",
      "max_index: 48, min_index: 11\n",
      "change: 12.072029380405171\n",
      "middle: 6.26535\n",
      "{'id': 1666726200, 'open': 6.5754, 'close': 6.5304, 'low': 6.5177, 'high': 6.592, 'amount': 18622, 'vol': 18622, 'trade_turnover': 121945.3174, 'count': 222}\n",
      "{'id': 1666727100, 'open': 6.5289, 'close': 6.5453, 'low': 6.5271, 'high': 6.557, 'amount': 8618, 'vol': 8618, 'trade_turnover': 56354.2536, 'count': 134}\n",
      "{'id': 1666728000, 'open': 6.5446, 'close': 6.4894, 'low': 6.4663, 'high': 6.5614, 'amount': 74484, 'vol': 74484, 'trade_turnover': 484961.0988, 'count': 423}\n",
      "{'id': 1666728900, 'open': 6.491, 'close': 6.4477, 'low': 6.4452, 'high': 6.5048, 'amount': 16508, 'vol': 16508, 'trade_turnover': 106986.6474, 'count': 152}\n",
      "{'id': 1666729800, 'open': 6.4505, 'close': 6.464, 'low': 6.4251, 'high': 6.4715, 'amount': 15904, 'vol': 15904, 'trade_turnover': 102474.5836, 'count': 129}\n",
      "{'id': 1666730700, 'open': 6.4637, 'close': 6.469, 'low': 6.4549, 'high': 6.4849, 'amount': 11652, 'vol': 11652, 'trade_turnover': 75331.7128, 'count': 120}\n",
      "{'id': 1666731600, 'open': 6.4704, 'close': 6.4438, 'low': 6.3983, 'high': 6.4821, 'amount': 56092, 'vol': 56092, 'trade_turnover': 360678.4322, 'count': 341}\n",
      "{'id': 1666732500, 'open': 6.4431, 'close': 6.4325, 'low': 6.4159, 'high': 6.4511, 'amount': 9960, 'vol': 9960, 'trade_turnover': 64058.8936, 'count': 95}\n",
      "{'id': 1666733400, 'open': 6.4332, 'close': 6.4428, 'low': 6.4296, 'high': 6.4452, 'amount': 8980, 'vol': 8980, 'trade_turnover': 57829.185, 'count': 62}\n",
      "{'id': 1666734300, 'open': 6.443, 'close': 6.4806, 'low': 6.438, 'high': 6.4856, 'amount': 12322, 'vol': 12322, 'trade_turnover': 79570.5512, 'count': 98}\n",
      "{'id': 1666735200, 'open': 6.48, 'close': 6.4305, 'low': 6.4301, 'high': 6.4801, 'amount': 12164, 'vol': 12164, 'trade_turnover': 78455.4996, 'count': 87}\n",
      "{'id': 1666736100, 'open': 6.4297, 'close': 6.4362, 'low': 6.4297, 'high': 6.4553, 'amount': 3774, 'vol': 3774, 'trade_turnover': 24312.4434, 'count': 54}\n",
      "{'id': 1666737000, 'open': 6.4346, 'close': 6.4263, 'low': 6.4058, 'high': 6.4375, 'amount': 7730, 'vol': 7730, 'trade_turnover': 49632.8512, 'count': 92}\n",
      "{'id': 1666737900, 'open': 6.4262, 'close': 6.4224, 'low': 6.4031, 'high': 6.4383, 'amount': 3228, 'vol': 3228, 'trade_turnover': 20733.8616, 'count': 77}\n",
      "{'id': 1666738800, 'open': 6.4242, 'close': 6.4231, 'low': 6.4065, 'high': 6.4376, 'amount': 3090, 'vol': 3090, 'trade_turnover': 19855.7988, 'count': 54}\n",
      "{'id': 1666739700, 'open': 6.4219, 'close': 6.438, 'low': 6.4194, 'high': 6.4398, 'amount': 4998, 'vol': 4998, 'trade_turnover': 32153.2706, 'count': 58}\n",
      "{'id': 1666740600, 'open': 6.4399, 'close': 6.4331, 'low': 6.4329, 'high': 6.4503, 'amount': 3492, 'vol': 3492, 'trade_turnover': 22487.7088, 'count': 67}\n",
      "{'id': 1666741500, 'open': 6.4354, 'close': 6.4345, 'low': 6.4318, 'high': 6.4559, 'amount': 2680, 'vol': 2680, 'trade_turnover': 17257.8082, 'count': 55}\n",
      "{'id': 1666742400, 'open': 6.4343, 'close': 6.4275, 'low': 6.4254, 'high': 6.4621, 'amount': 6164, 'vol': 6164, 'trade_turnover': 39746.81, 'count': 93}\n",
      "{'id': 1666743300, 'open': 6.4453, 'close': 6.4684, 'low': 6.4453, 'high': 6.4739, 'amount': 3092, 'vol': 3092, 'trade_turnover': 19974.6096, 'count': 67}\n",
      "{'id': 1666744200, 'open': 6.4657, 'close': 6.4584, 'low': 6.4497, 'high': 6.4738, 'amount': 3154, 'vol': 3154, 'trade_turnover': 20375.0708, 'count': 59}\n",
      "{'id': 1666745100, 'open': 6.4647, 'close': 6.4743, 'low': 6.4497, 'high': 6.4799, 'amount': 3074, 'vol': 3074, 'trade_turnover': 19877.1144, 'count': 53}\n",
      "{'id': 1666746000, 'open': 6.4762, 'close': 6.4421, 'low': 6.4408, 'high': 6.4843, 'amount': 4618, 'vol': 4618, 'trade_turnover': 29808.989, 'count': 77}\n",
      "{'id': 1666746900, 'open': 6.4461, 'close': 6.4408, 'low': 6.4273, 'high': 6.4541, 'amount': 2874, 'vol': 2874, 'trade_turnover': 18507.0798, 'count': 48}\n",
      "{'id': 1666747800, 'open': 6.4367, 'close': 6.4739, 'low': 6.4367, 'high': 6.479, 'amount': 6532, 'vol': 6532, 'trade_turnover': 42235.4124, 'count': 84}\n",
      "{'id': 1666748700, 'open': 6.4727, 'close': 6.4697, 'low': 6.469, 'high': 6.4864, 'amount': 7004, 'vol': 7004, 'trade_turnover': 45363.6202, 'count': 75}\n",
      "{'id': 1666749600, 'open': 6.4742, 'close': 6.4776, 'low': 6.4582, 'high': 6.4793, 'amount': 3728, 'vol': 3728, 'trade_turnover': 24126.3352, 'count': 60}\n",
      "{'id': 1666750500, 'open': 6.4799, 'close': 6.4932, 'low': 6.4766, 'high': 6.5, 'amount': 20706, 'vol': 20706, 'trade_turnover': 134381.3764, 'count': 151}\n",
      "{'id': 1666751400, 'open': 6.4933, 'close': 6.4994, 'low': 6.4851, 'high': 6.5026, 'amount': 16280, 'vol': 16280, 'trade_turnover': 105669.5014, 'count': 97}\n",
      "{'id': 1666752300, 'open': 6.4973, 'close': 6.4979, 'low': 6.4847, 'high': 6.5085, 'amount': 5400, 'vol': 5400, 'trade_turnover': 35080.3116, 'count': 75}\n",
      "{'id': 1666753200, 'open': 6.4979, 'close': 6.4833, 'low': 6.4771, 'high': 6.4992, 'amount': 6820, 'vol': 6820, 'trade_turnover': 44280.8152, 'count': 59}\n",
      "{'id': 1666754100, 'open': 6.4786, 'close': 6.5095, 'low': 6.4771, 'high': 6.5124, 'amount': 19548, 'vol': 19548, 'trade_turnover': 126660.3694, 'count': 80}\n",
      "{'id': 1666755000, 'open': 6.5138, 'close': 6.483, 'low': 6.4823, 'high': 6.5138, 'amount': 16422, 'vol': 16422, 'trade_turnover': 106686.0124, 'count': 72}\n",
      "{'id': 1666755900, 'open': 6.4819, 'close': 6.4866, 'low': 6.4813, 'high': 6.4924, 'amount': 29906, 'vol': 29906, 'trade_turnover': 194082.5272, 'count': 92}\n",
      "{'id': 1666756800, 'open': 6.4871, 'close': 6.4746, 'low': 6.4705, 'high': 6.4889, 'amount': 2182, 'vol': 2182, 'trade_turnover': 14129.9348, 'count': 30}\n",
      "{'id': 1666757700, 'open': 6.4739, 'close': 6.478, 'low': 6.4684, 'high': 6.4861, 'amount': 3890, 'vol': 3890, 'trade_turnover': 25190.7858, 'count': 40}\n",
      "{'id': 1666758600, 'open': 6.4856, 'close': 6.4876, 'low': 6.4856, 'high': 6.4998, 'amount': 2920, 'vol': 2920, 'trade_turnover': 18955.6938, 'count': 36}\n",
      "{'id': 1666759500, 'open': 6.4893, 'close': 6.4784, 'low': 6.4709, 'high': 6.498, 'amount': 16304, 'vol': 16304, 'trade_turnover': 105690.4468, 'count': 98}\n",
      "{'id': 1666760400, 'open': 6.4815, 'close': 6.4689, 'low': 6.4651, 'high': 6.491, 'amount': 9016, 'vol': 9016, 'trade_turnover': 58422.9148, 'count': 74}\n",
      "{'id': 1666761300, 'open': 6.469, 'close': 6.4666, 'low': 6.4661, 'high': 6.4741, 'amount': 1666, 'vol': 1666, 'trade_turnover': 10778.0744, 'count': 31}\n",
      "{'id': 1666762200, 'open': 6.4687, 'close': 6.475, 'low': 6.4647, 'high': 6.4754, 'amount': 3522, 'vol': 3522, 'trade_turnover': 22794.0452, 'count': 51}\n",
      "{'id': 1666763100, 'open': 6.4773, 'close': 6.4717, 'low': 6.4536, 'high': 6.4773, 'amount': 45784, 'vol': 45784, 'trade_turnover': 295719.9212, 'count': 142}\n",
      "{'id': 1666764000, 'open': 6.4721, 'close': 6.511, 'low': 6.472, 'high': 6.5121, 'amount': 8998, 'vol': 8998, 'trade_turnover': 58407.94, 'count': 78}\n",
      "{'id': 1666764900, 'open': 6.5023, 'close': 6.4974, 'low': 6.4913, 'high': 6.5281, 'amount': 14564, 'vol': 14564, 'trade_turnover': 94772.0472, 'count': 119}\n",
      "{'id': 1666765800, 'open': 6.4957, 'close': 6.52, 'low': 6.4957, 'high': 6.52, 'amount': 7680, 'vol': 7680, 'trade_turnover': 49970.6368, 'count': 77}\n",
      "{'id': 1666766700, 'open': 6.5218, 'close': 6.5181, 'low': 6.4974, 'high': 6.5293, 'amount': 11342, 'vol': 11342, 'trade_turnover': 73928.5716, 'count': 120}\n",
      "{'id': 1666767600, 'open': 6.5181, 'close': 6.5181, 'low': 6.5181, 'high': 6.5181, 'amount': 0, 'vol': 0, 'trade_turnover': 0, 'count': 0}\n",
      "maxv: 48, minv: 55\n",
      "maxv_kline: {'id': 1666725300, 'open': 6.5767, 'close': 6.5765, 'low': 6.5697, 'high': 6.622, 'amount': 18226, 'vol': 18226, 'trade_turnover': 120234.7708, 'count': 238}, minv_kline: {'id': 1666731600, 'open': 6.4704, 'close': 6.4438, 'low': 6.3983, 'high': 6.4821, 'amount': 56092, 'vol': 56092, 'trade_turnover': 360678.4322, 'count': 341}\n",
      "diff: 0.13295000000000012\n",
      "lists: [6.622, 6.532837499999999, 6.443675, 6.3545125, 6.26535]\n"
     ]
    }
   ],
   "source": [
    "import time\n",
    "import numpy as np\n",
    "from threading import Timer\n",
    "from huobi.linear_swap.rest import account, market, order\n",
    "from config.linairx001 import ACCESS_KEY, SECRET_KEY\n",
    "\n",
    "symbol = 'DOT-USDT'\n",
    "\n",
    "client = market.Market()\n",
    "orderClient = order.Order(ACCESS_KEY,\n",
    "                          SECRET_KEY)\n",
    "accountClient = account.Account(ACCESS_KEY, SECRET_KEY)\n",
    "\n",
    "result = accountClient.get_balance_valuation({\"valuation_asset\": 'USD'})\n",
    "# result = accountClient.get_account_info({\"contract_code\": 'XRP-USD'})\n",
    "# result = accountClient.get_position_info({\"contract_code\": 'XRP-USD'})\n",
    "\n",
    "\n",
    "# 价格精度 数值\n",
    "result = client.get_contract_info({\"contract_code\": symbol})\n",
    "price_tick = str(result.get('data')[0].get('price_tick'))\n",
    "\n",
    "if '1e-' in price_tick:\n",
    "    print(int(price_tick.split('-')[1]))\n",
    "else:\n",
    "    print(len(price_tick.split('.')[1]))\n",
    "\n",
    "\n",
    "def fetchKLines(symbol: str, interval: str, limit: str):\n",
    "    return client.get_kline(\n",
    "        {\"contract_code\": symbol, \"period\": interval, \"size\": limit})\n",
    "\n",
    "\n",
    "result = fetchKLines(symbol=symbol, interval='15min', limit='96')\n",
    "\n",
    "# print(result)\n",
    "max_index = 0\n",
    "min_index = 0\n",
    "klines = []\n",
    "\n",
    "if not result == None and len(result.get('data')) > 0:\n",
    "    klines = result.get('data')\n",
    "\n",
    "    print(f\"当前k线len {len(klines)}\")\n",
    "    for i in range(1, len(klines)):\n",
    "        max_index = max_index if klines[max_index].get(\n",
    "            'high') > klines[i].get('high') else i\n",
    "        min_index = min_index if klines[min_index].get(\n",
    "            'low') < klines[i].get('low') else i\n",
    "\n",
    "print(f\"max: {klines[max_index]}, min: {klines[min_index]}\")\n",
    "print(f\"max_index: {max_index}, min_index: {min_index}\")\n",
    "\n",
    "high = klines[max_index].get('high')\n",
    "low = klines[min_index].get('low')\n",
    "middle = ((high - low) / 2) + low\n",
    "\n",
    "change = ((high - low) / low) * 100\n",
    "\n",
    "print(f\"change: {change}\")\n",
    "print(f\"middle: {middle}\")\n",
    "\n",
    "if change > 6:\n",
    "    if max_index - min_index >= 6:  # 最大值和最小值的间隔必须要大于6根k线，过滤急拉急跌的行情\n",
    "        maxv = max_index\n",
    "        minv = max_index\n",
    "        if len(klines) == max_index + 1:\n",
    "            print('当前k线就是最大值，看之前5根k线量是否递增，是的话直接买入，止损挂在low的位置')\n",
    "        for i in range(max_index + 1, len(klines)):\n",
    "            print(klines[i])\n",
    "            maxv = maxv if klines[maxv].get(\n",
    "                'high') > klines[i].get('high') else i\n",
    "            minv = minv if klines[minv].get(\n",
    "                'low') < klines[i].get('low') else i\n",
    "        \n",
    "        print(f\"maxv: {maxv}, minv: {minv}\")\n",
    "        print(f\"maxv_kline: {klines[maxv]}, minv_kline: {klines[minv]}\")\n",
    "        diff = klines[minv].get('low') - middle\n",
    "        print(f\"diff: {diff}\")\n",
    "        lists = np.linspace(high, middle, num=5).tolist()\n",
    "        print(f\"lists: {lists}\")\n",
    "\n",
    "\n",
    "\n",
    "\n",
    "# result = orderClient.cross_order(data={\n",
    "#     \"contract_code\": symbol,\n",
    "#     \"volume\": 1,\n",
    "#     \"direction\": 'sell',\n",
    "#     \"offset\": 'open',\n",
    "#     \"price\": '0.00001100',\n",
    "#     \"lever_rate\": 10,\n",
    "#     \"order_price_type\": 'limit'\n",
    "# })\n",
    "\n",
    "# print(result)\n"
   ]
  },
  {
   "cell_type": "code",
   "execution_count": 41,
   "metadata": {},
   "outputs": [
    {
     "name": "stdout",
     "output_type": "stream",
     "text": [
      "1\n",
      "2\n",
      "3\n",
      "4\n",
      "5\n",
      "6\n",
      "7\n",
      "8\n",
      "9\n",
      "10\n",
      "11\n",
      "12\n",
      "13\n",
      "14\n"
     ]
    }
   ],
   "source": [
    "for i in range(1, 15):\n",
    "    print(i)"
   ]
  },
  {
   "cell_type": "code",
   "execution_count": 53,
   "metadata": {},
   "outputs": [
    {
     "name": "stdout",
     "output_type": "stream",
     "text": [
      "{'status': 'ok', 'data': {'errors': [{'order_id': '1031209124452663299', 'err_code': 1071, 'err_msg': 'Repeated cancellation. Your order has been canceled.'}], 'successes': ''}, 'ts': 1665906508940}\n",
      "{'status': 'ok', 'data': [{'business_type': 'swap', 'contract_type': 'swap', 'pair': 'CLV-USDT', 'symbol': 'CLV', 'contract_code': 'CLV-USDT', 'volume': 1, 'price': 0.09, 'order_price_type': 'limit', 'order_type': 1, 'direction': 'buy', 'offset': 'open', 'lever_rate': 10, 'order_id': 1031209124452663299, 'client_order_id': None, 'created_at': 1665901014203, 'trade_volume': 0, 'trade_turnover': 0, 'fee': 0, 'trade_avg_price': None, 'margin_frozen': 0.0, 'profit': 0, 'status': 7, 'order_source': 'api', 'order_id_str': '1031209124452663299', 'fee_asset': 'USDT', 'liquidation_type': '0', 'canceled_at': 1665901034528, 'margin_asset': 'USDT', 'margin_account': 'USDT', 'margin_mode': 'cross', 'is_tpsl': 0, 'real_profit': 0, 'trade_partition': 'USDT', 'reduce_only': 0}], 'ts': 1665906509054}\n"
     ]
    }
   ],
   "source": [
    "result = orderClient.cross_cancel({\n",
    "    \"order_id\": '1031209124452663299',\n",
    "    \"contract_code\": 'CLV-USDT'\n",
    "})\n",
    "\n",
    "print(result)\n",
    "result = orderClient.cross_get_order_info({\n",
    "    \"order_id\": '1031209124452663299',\n",
    "    \"contract_code\": 'CLV-USDT'\n",
    "})\n",
    "\n",
    "print(result)"
   ]
  },
  {
   "cell_type": "code",
   "execution_count": 5,
   "metadata": {},
   "outputs": [
    {
     "name": "stdout",
     "output_type": "stream",
     "text": [
      "23\n"
     ]
    }
   ],
   "source": [
    "a = 3\n",
    "\n",
    "if not a == None and a > 2:\n",
    "    print(23)"
   ]
  },
  {
   "cell_type": "code",
   "execution_count": 12,
   "metadata": {},
   "outputs": [
    {
     "name": "stdout",
     "output_type": "stream",
     "text": [
      "btc 200\n",
      "eth 200\n",
      "clv 20\n",
      "dydx 50\n",
      "ht 20\n",
      "apt 10\n"
     ]
    }
   ],
   "source": [
    "symbols = [{\n",
    "    \"symbol\": 'btc',\n",
    "    \"lever_rate\": '200'\n",
    "}, {\n",
    "    \"symbol\": 'eth',\n",
    "    \"lever_rate\": '200'\n",
    "}, {\n",
    "    \"symbol\": 'clv',\n",
    "    \"lever_rate\": '20'\n",
    "}, {\n",
    "    \"symbol\": 'dydx',\n",
    "    \"lever_rate\": '50'\n",
    "}, {\n",
    "    \"symbol\": 'ht',\n",
    "    \"lever_rate\": '20'\n",
    "}, {\n",
    "    \"symbol\": 'apt',\n",
    "    \"lever_rate\": '10'\n",
    "}, ]\n",
    "\n",
    "for item in symbols:\n",
    "    symbol, lever_rate = item.values()\n",
    "    print(symbol, lever_rate)"
   ]
  },
  {
   "cell_type": "code",
   "execution_count": 1,
   "metadata": {},
   "outputs": [
    {
     "name": "stdout",
     "output_type": "stream",
     "text": [
      "doge_buy online\n",
      "doge_sell online\n",
      "fil_buy online\n",
      "fil_sell online\n",
      "clv_buy online\n",
      "clv_sell online\n",
      "1inch_buy online\n",
      "1inch_sell online\n",
      "dot_buy online\n",
      "dot_sell online\n",
      "snx_buy online\n",
      "snx_sell online\n"
     ]
    }
   ],
   "source": [
    "import subprocess\n",
    "import json\n",
    "\n",
    "out = subprocess.run('pm2 jlist', stdout=subprocess.PIPE, shell=True)\n",
    "\n",
    "for item in json.loads(out.stdout):\n",
    "    print(item.get('name'), item.get('pm2_env').get('status'))\n",
    "\n",
    "\n"
   ]
  },
  {
   "cell_type": "code",
   "execution_count": 5,
   "metadata": {},
   "outputs": [
    {
     "data": {
      "text/plain": [
       "-inf"
      ]
     },
     "execution_count": 5,
     "metadata": {},
     "output_type": "execute_result"
    }
   ],
   "source": [
    "thisdict = {\n",
    "  \"brand\": \"Ford\",\n",
    "  \"model\": \"Mustang\",\n",
    "  \"year\": 1964,\n",
    "  \"year\": 2020\n",
    "}\n",
    "thisdict\n",
    "# thisdict['aaa'] = 345\n",
    "# thisdict\n",
    "float('-inf')\n"
   ]
  },
  {
   "cell_type": "code",
   "execution_count": 13,
   "metadata": {},
   "outputs": [
    {
     "data": {
      "text/plain": [
       "'buy'"
      ]
     },
     "execution_count": 13,
     "metadata": {},
     "output_type": "execute_result"
    }
   ],
   "source": [
    "i = 'sell'\n",
    "\n",
    "'sell' if i == 'buy' else 'buy'\n"
   ]
  },
  {
   "cell_type": "code",
   "execution_count": 52,
   "metadata": {},
   "outputs": [
    {
     "data": {
      "text/plain": [
       "array([0.01  , 0.0075, 0.005 , 0.0025, 0.    ])"
      ]
     },
     "execution_count": 52,
     "metadata": {},
     "output_type": "execute_result"
    }
   ],
   "source": [
    "\n",
    "\n",
    "np.linspace(0.01, 0, num=5)\n",
    "\n",
    "# [1, 2, 4, 8, 16, 32, 64, 128, 256, 512, 1024, 2048, 4096, 8192][:5]"
   ]
  },
  {
   "cell_type": "code",
   "execution_count": 2,
   "metadata": {},
   "outputs": [
    {
     "data": {
      "text/plain": [
       "[0.01, 0.005, 0.0, -0.004999999999999999, -0.01]"
      ]
     },
     "execution_count": 2,
     "metadata": {},
     "output_type": "execute_result"
    }
   ],
   "source": [
    "import numpy as np\n",
    "\n",
    "np.linspace(0.01, -0.01, num=5).tolist()"
   ]
  },
  {
   "cell_type": "code",
   "execution_count": 1,
   "metadata": {},
   "outputs": [
    {
     "name": "stdout",
     "output_type": "stream",
     "text": [
      "[0.0, 0.0025, 0.005, 0.0075, 0.01]\n",
      "[0.05, 0.04, 0.030000000000000002, 0.020000000000000004, 0.01]\n"
     ]
    }
   ],
   "source": [
    "import numpy as np\n",
    "print(np.linspace(0, 0.01, num=5).tolist())\n",
    "print(np.linspace(0.05, 0.01, num=5).tolist())"
   ]
  },
  {
   "cell_type": "code",
   "execution_count": 19,
   "metadata": {},
   "outputs": [
    {
     "data": {
      "text/plain": [
       "[123.3, 2.0, 2.0, 2.0]"
      ]
     },
     "execution_count": 19,
     "metadata": {},
     "output_type": "execute_result"
    }
   ],
   "source": [
    "[float(item) for item in \"123.3,2,2,2\".split(',')]"
   ]
  },
  {
   "cell_type": "code",
   "execution_count": 31,
   "metadata": {},
   "outputs": [
    {
     "data": {
      "text/plain": [
       "4"
      ]
     },
     "execution_count": 31,
     "metadata": {},
     "output_type": "execute_result"
    }
   ],
   "source": [
    "import math\n",
    "\n",
    "math.floor(199.123123 / 100) * 4"
   ]
  },
  {
   "cell_type": "code",
   "execution_count": 58,
   "metadata": {},
   "outputs": [
    {
     "name": "stdout",
     "output_type": "stream",
     "text": [
      "1 2\n"
     ]
    }
   ],
   "source": [
    "curr = 0\n",
    "ss = 1\n",
    "\n",
    "def a():\n",
    "    global curr, ss \n",
    "    curr = 1\n",
    "    ss = 2\n",
    "\n",
    "a()\n",
    "print(curr, ss)"
   ]
  },
  {
   "cell_type": "code",
   "execution_count": 2,
   "metadata": {},
   "outputs": [
    {
     "data": {
      "text/plain": [
       "['start',\n",
       " 'main.py',\n",
       " '--name',\n",
       " 'clv_buy',\n",
       " '--interpreter',\n",
       " 'python3',\n",
       " '--',\n",
       " '--symbol',\n",
       " 'CLV',\n",
       " '--max_cnt',\n",
       " '5',\n",
       " '--direction',\n",
       " 'buy',\n",
       " '--margin_call',\n",
       " '\"0.0,0.0025,0.005,0.0075,0.01\"',\n",
       " '--close_call',\n",
       " '\"0.05,0.04,0.03,0.02,0.01\"']"
      ]
     },
     "execution_count": 2,
     "metadata": {},
     "output_type": "execute_result"
    }
   ],
   "source": [
    "'start main.py --name clv_buy --interpreter python3 -- --symbol CLV --max_cnt 5 --direction buy --margin_call \"0.0,0.0025,0.005,0.0075,0.01\" --close_call \"0.05,0.04,0.03,0.02,0.01\"'.split(' ')"
   ]
  }
 ],
 "metadata": {
  "interpreter": {
   "hash": "6ee389b6fd5680d01c44917c1212b4c09ead7d0a63469ff6d06dd80212d603e1"
  },
  "kernelspec": {
   "display_name": "Python 3.8.10 ('env': venv)",
   "language": "python",
   "name": "python3"
  },
  "language_info": {
   "codemirror_mode": {
    "name": "ipython",
    "version": 3
   },
   "file_extension": ".py",
   "mimetype": "text/x-python",
   "name": "python",
   "nbconvert_exporter": "python",
   "pygments_lexer": "ipython3",
   "version": "3.8.10"
  },
  "orig_nbformat": 4
 },
 "nbformat": 4,
 "nbformat_minor": 2
}
