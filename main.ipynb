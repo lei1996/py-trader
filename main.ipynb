{
 "cells": [
  {
   "cell_type": "code",
   "execution_count": 25,
   "metadata": {},
   "outputs": [
    {
     "name": "stdout",
     "output_type": "stream",
     "text": [
      "[2000.  1980.  1960.2]\n"
     ]
    }
   ],
   "source": [
    "import numpy as np\n",
    "\n",
    "\n",
    "class Martingale:\n",
    "    def __init__(self, open_price, max_cnt, direction, bs, margin_call, close_call):\n",
    "        self.max_cnt = max_cnt  # 最大补仓次数\n",
    "        self.direction = direction  # 方向 buy 多 sell 空\n",
    "        self.bs = bs  # 补仓数量 like: [1, 2, 4, 8]...\n",
    "        self.margin_call = margin_call  # 跌 | 涨 1% 补仓\n",
    "        self.close_call = close_call  # 获利多少平仓\n",
    "        self.curr = 0  # 当前开仓次数\n",
    "\n",
    "        self.price_lists = np.array([open_price])\n",
    "\n",
    "        for i in range(1, max_cnt):\n",
    "            if self.direction == 'buy':\n",
    "                self.price_lists = np.append(\n",
    "                    self.price_lists, self.price_lists[-1] - (self.price_lists[-1] * margin_call[i]))\n",
    "            else:\n",
    "                self.price_lists = np.append(\n",
    "                    self.price_lists, self.price_lists[-1] + (self.price_lists[-1] * margin_call[i]))\n",
    "\n",
    "    def is_add_open(self, price):  # 是否加仓\n",
    "        if self.curr >= self.max_cnt:\n",
    "            return []\n",
    "        if self.direction == 'buy':\n",
    "            return self.price_lists[self.price_lists >= price]\n",
    "        else:\n",
    "            return self.price_lists[self.price_lists <= price]\n",
    "\n",
    "    def is_close_all(self, price):  # 是否平仓\n",
    "        if self.curr == 0:\n",
    "            return False\n",
    "\n",
    "        result = 0\n",
    "        for i in range(0, self.curr):\n",
    "            result += self.price_lists[i] * self.bs[i]\n",
    "\n",
    "        avg_price = result / sum(self.bs[:self.curr])\n",
    "\n",
    "        if self.direction == 'buy':\n",
    "            return price > (avg_price + (avg_price * self.close_call[self.curr - 1]))\n",
    "        else:\n",
    "            return price < (avg_price - (avg_price * self.close_call[self.curr - 1]))\n",
    "\n",
    "    def curr_open(self):  # 当前开仓\n",
    "        if self.curr == 0:\n",
    "            return 0\n",
    "        return sum(self.bs[:self.curr])\n",
    "\n",
    "\n",
    "mas = Martingale(open_price=2000, max_cnt=5, direction='buy',\n",
    "                 margin_call=0.01, close_call=0.005)\n",
    "\n",
    "print(mas.is_add_open(1960))\n"
   ]
  },
  {
   "cell_type": "code",
   "execution_count": 31,
   "metadata": {},
   "outputs": [
    {
     "name": "stdout",
     "output_type": "stream",
     "text": [
      "[2000.         1995.         1985.025      1970.1373125  1950.43593938]\n",
      "[2040.0, 2031.6083333333333, 2019.8645, 2004.1558987499998, 1984.1017827516127]\n",
      "2000.0\n",
      "1995.0\n",
      "1985.02\n",
      "1970.14\n",
      "1950.44\n"
     ]
    }
   ],
   "source": [
    "import numpy as np\n",
    "\n",
    "\n",
    "max_cnt = 5\n",
    "direction = 'buy'\n",
    "margin_call = np.linspace(0, 0.01, num=5).tolist()\n",
    "close_call = np.linspace(0.02, 0.01, num=5).tolist()\n",
    "bs = [1, 2, 4, 8, 16, 32, 64, 128, 256, 512, 1024, 2048, 4096, 8192]\n",
    "price_lists = np.array([2000])\n",
    "close_lists = []\n",
    "order_lists = []\n",
    "\n",
    "for i in range(1, max_cnt):\n",
    "    if direction == 'buy':\n",
    "        price_lists = np.append(\n",
    "            price_lists, price_lists[-1] - (price_lists[-1] * margin_call[i]))\n",
    "    else:\n",
    "        price_lists = np.append(\n",
    "            price_lists, price_lists[-1] + (price_lists[-1] * margin_call[i]))\n",
    "\n",
    "\n",
    "result = 0\n",
    "for i in range(0, max_cnt):\n",
    "    result += price_lists[i] * bs[i]\n",
    "    avg = result / sum(bs[:i+1])\n",
    "    if direction == 'buy':\n",
    "        close_lists.append(avg + (avg * close_call[i]))\n",
    "    else:\n",
    "        close_lists.append(avg - (avg * close_call[i]))\n",
    "    \n",
    "print(price_lists)\n",
    "print(close_lists)\n",
    "\n",
    "\n",
    "for item in price_lists.round(2):\n",
    "    print(item) \n",
    "\n",
    "\n",
    "\n"
   ]
  },
  {
   "cell_type": "code",
   "execution_count": 1,
   "metadata": {},
   "outputs": [
    {
     "name": "stdout",
     "output_type": "stream",
     "text": [
      "{'status': 'ok', 'data': [{'valuation_asset': 'USD', 'balance': '129.964784306078464317'}], 'ts': 1665980527214}\n",
      "4\n",
      "{'ch': 'market.HT-USDT.kline.1min', 'ts': 1665980527420, 'status': 'ok', 'data': [{'id': 1665980520, 'open': 6.6644, 'close': 6.6683, 'low': 6.6644, 'high': 6.6689, 'amount': 77.2, 'vol': 772, 'trade_turnover': 514.7856, 'count': 8}]}\n",
      "{'status': 'ok', 'data': {'order_id': 1031542627511095296, 'order_id_str': '1031542627511095296'}, 'ts': 1665980527538}\n"
     ]
    }
   ],
   "source": [
    "import time\n",
    "from threading import Timer\n",
    "from huobi.linear_swap.rest import account, market, order\n",
    "from config.linairx001 import ACCESS_KEY, SECRET_KEY\n",
    "\n",
    "symbol = 'HT-USDT'\n",
    "\n",
    "client = market.Market()\n",
    "orderClient = order.Order(ACCESS_KEY,\n",
    "                          SECRET_KEY)\n",
    "accountClient = account.Account(ACCESS_KEY, SECRET_KEY)\n",
    "\n",
    "result = accountClient.get_balance_valuation({\"valuation_asset\": 'USD'})\n",
    "# result = accountClient.get_account_info({\"contract_code\": 'XRP-USD'})\n",
    "# result = accountClient.get_position_info({\"contract_code\": 'XRP-USD'})\n",
    "\n",
    "print(result)\n",
    "\n",
    "# 价格精度 数值\n",
    "result = client.get_contract_info({\"contract_code\": symbol})\n",
    "price_tick = str(result.get('data')[0].get('price_tick'))\n",
    "\n",
    "if '1e-' in price_tick:\n",
    "    print(int(price_tick.split('-')[1]))\n",
    "else:\n",
    "    print(len(price_tick.split('.')[1]))\n",
    "\n",
    "\n",
    "def fetchKLines(symbol: str, interval: str, limit: str):\n",
    "    return client.get_kline(\n",
    "        {\"contract_code\": symbol, \"period\": interval, \"size\": limit})\n",
    "\n",
    "klines = fetchKLines(symbol=symbol, interval='1min', limit='1')\n",
    "\n",
    "print(klines)\n",
    "\n",
    "\n",
    "result = orderClient.cross_order(data={\n",
    "    \"contract_code\": symbol,\n",
    "    \"volume\": 1,\n",
    "    \"direction\": 'buy',\n",
    "    \"offset\": 'open',\n",
    "    \"price\": '6.62',\n",
    "    \"lever_rate\": 10,\n",
    "    \"order_price_type\": 'limit'\n",
    "})\n",
    "\n",
    "print(result)\n"
   ]
  },
  {
   "cell_type": "code",
   "execution_count": 53,
   "metadata": {},
   "outputs": [
    {
     "name": "stdout",
     "output_type": "stream",
     "text": [
      "{'status': 'ok', 'data': {'errors': [{'order_id': '1031209124452663299', 'err_code': 1071, 'err_msg': 'Repeated cancellation. Your order has been canceled.'}], 'successes': ''}, 'ts': 1665906508940}\n",
      "{'status': 'ok', 'data': [{'business_type': 'swap', 'contract_type': 'swap', 'pair': 'CLV-USDT', 'symbol': 'CLV', 'contract_code': 'CLV-USDT', 'volume': 1, 'price': 0.09, 'order_price_type': 'limit', 'order_type': 1, 'direction': 'buy', 'offset': 'open', 'lever_rate': 10, 'order_id': 1031209124452663299, 'client_order_id': None, 'created_at': 1665901014203, 'trade_volume': 0, 'trade_turnover': 0, 'fee': 0, 'trade_avg_price': None, 'margin_frozen': 0.0, 'profit': 0, 'status': 7, 'order_source': 'api', 'order_id_str': '1031209124452663299', 'fee_asset': 'USDT', 'liquidation_type': '0', 'canceled_at': 1665901034528, 'margin_asset': 'USDT', 'margin_account': 'USDT', 'margin_mode': 'cross', 'is_tpsl': 0, 'real_profit': 0, 'trade_partition': 'USDT', 'reduce_only': 0}], 'ts': 1665906509054}\n"
     ]
    }
   ],
   "source": [
    "result = orderClient.cross_cancel({\n",
    "    \"order_id\": '1031209124452663299',\n",
    "    \"contract_code\": 'CLV-USDT'\n",
    "})\n",
    "\n",
    "print(result)\n",
    "result = orderClient.cross_get_order_info({\n",
    "    \"order_id\": '1031209124452663299',\n",
    "    \"contract_code\": 'CLV-USDT'\n",
    "})\n",
    "\n",
    "print(result)"
   ]
  },
  {
   "cell_type": "code",
   "execution_count": 52,
   "metadata": {},
   "outputs": [
    {
     "data": {
      "text/plain": [
       "array([0.01  , 0.0075, 0.005 , 0.0025, 0.    ])"
      ]
     },
     "execution_count": 52,
     "metadata": {},
     "output_type": "execute_result"
    }
   ],
   "source": [
    "\n",
    "\n",
    "np.linspace(0.01, 0, num=5)\n",
    "\n",
    "# [1, 2, 4, 8, 16, 32, 64, 128, 256, 512, 1024, 2048, 4096, 8192][:5]"
   ]
  },
  {
   "cell_type": "code",
   "execution_count": 2,
   "metadata": {},
   "outputs": [
    {
     "data": {
      "text/plain": [
       "[0.01, 0.005, 0.0, -0.004999999999999999, -0.01]"
      ]
     },
     "execution_count": 2,
     "metadata": {},
     "output_type": "execute_result"
    }
   ],
   "source": [
    "import numpy as np\n",
    "\n",
    "np.linspace(0.01, -0.01, num=5).tolist()"
   ]
  },
  {
   "cell_type": "code",
   "execution_count": 8,
   "metadata": {},
   "outputs": [
    {
     "name": "stdout",
     "output_type": "stream",
     "text": [
      "[0.0, 0.005555555555555556, 0.011111111111111112, 0.016666666666666666, 0.022222222222222223, 0.02777777777777778, 0.03333333333333333, 0.03888888888888889, 0.044444444444444446, 0.05]\n",
      "[0.5, 0.45555555555555555, 0.4111111111111111, 0.3666666666666667, 0.3222222222222222, 0.2777777777777778, 0.23333333333333334, 0.18888888888888888, 0.14444444444444443, 0.1]\n"
     ]
    }
   ],
   "source": [
    "import numpy as np\n",
    "print(np.linspace(0, 0.05, num=10).tolist())\n",
    "print(np.linspace(0.5, 0.1, num=10).tolist())"
   ]
  },
  {
   "cell_type": "code",
   "execution_count": 4,
   "metadata": {},
   "outputs": [
    {
     "data": {
      "text/plain": [
       "['123.3', '2', '2', '2']"
      ]
     },
     "execution_count": 4,
     "metadata": {},
     "output_type": "execute_result"
    }
   ],
   "source": [
    "[item for item in \"123.3,2,2,2\".split(',')]"
   ]
  },
  {
   "cell_type": "code",
   "execution_count": 58,
   "metadata": {},
   "outputs": [
    {
     "name": "stdout",
     "output_type": "stream",
     "text": [
      "1 2\n"
     ]
    }
   ],
   "source": [
    "curr = 0\n",
    "ss = 1\n",
    "\n",
    "def a():\n",
    "    global curr, ss \n",
    "    curr = 1\n",
    "    ss = 2\n",
    "\n",
    "a()\n",
    "print(curr, ss)"
   ]
  }
 ],
 "metadata": {
  "interpreter": {
   "hash": "6ee389b6fd5680d01c44917c1212b4c09ead7d0a63469ff6d06dd80212d603e1"
  },
  "kernelspec": {
   "display_name": "Python 3.8.10 ('env': venv)",
   "language": "python",
   "name": "python3"
  },
  "language_info": {
   "codemirror_mode": {
    "name": "ipython",
    "version": 3
   },
   "file_extension": ".py",
   "mimetype": "text/x-python",
   "name": "python",
   "nbconvert_exporter": "python",
   "pygments_lexer": "ipython3",
   "version": "3.8.10"
  },
  "orig_nbformat": 4
 },
 "nbformat": 4,
 "nbformat_minor": 2
}
